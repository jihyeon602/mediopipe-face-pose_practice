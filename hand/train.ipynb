{
 "cells": [
  {
   "cell_type": "code",
   "execution_count": 1,
   "metadata": {},
   "outputs": [],
   "source": [
    "import numpy as np\n",
    "import os\n",
    "\n",
    "os.environ['CUDA_VISIBLE_DEVICES'] = '1'\n",
    "os.environ['TF_FORCE_GPU_ALLOW_GROWTH'] = 'true'"
   ]
  },
  {
   "cell_type": "code",
   "execution_count": 2,
   "metadata": {},
   "outputs": [
    {
     "data": {
      "text/plain": [
       "(3893, 30, 100)"
      ]
     },
     "execution_count": 2,
     "metadata": {},
     "output_type": "execute_result"
    }
   ],
   "source": [
    "actions = [\n",
    "    'come',\n",
    "    'away',\n",
    "    'spin',\n",
    "    'hello',\n",
    "    'rock'\n",
    "]\n",
    "\n",
    "data = np.concatenate([\n",
    "    np.load('dataset/seq_come_1745484539.npy'),\n",
    "    np.load('dataset/seq_away_1627646273.npy'),\n",
    "    np.load('dataset/seq_spin_1745484539.npy'),\n",
    "    np.load('dataset/seq_hello_1745484539.npy'),\n",
    "    np.load('dataset/seq_rock_1745484539.npy')\n",
    "], axis=0)\n",
    "\n",
    "data.shape"
   ]
  },
  {
   "cell_type": "code",
   "execution_count": 3,
   "metadata": {},
   "outputs": [
    {
     "name": "stdout",
     "output_type": "stream",
     "text": [
      "(3893, 30, 99)\n",
      "(3893,)\n"
     ]
    }
   ],
   "source": [
    "x_data = data[:, :, :-1]\n",
    "labels = data[:, 0, -1]\n",
    "\n",
    "print(x_data.shape)\n",
    "print(labels.shape)"
   ]
  },
  {
   "cell_type": "code",
   "execution_count": 4,
   "metadata": {},
   "outputs": [
    {
     "data": {
      "text/plain": [
       "(3893, 5)"
      ]
     },
     "execution_count": 4,
     "metadata": {},
     "output_type": "execute_result"
    }
   ],
   "source": [
    "from tensorflow.keras.utils import to_categorical\n",
    "\n",
    "y_data = to_categorical(labels, num_classes=len(actions))\n",
    "y_data.shape"
   ]
  },
  {
   "cell_type": "code",
   "execution_count": 5,
   "metadata": {},
   "outputs": [
    {
     "name": "stdout",
     "output_type": "stream",
     "text": [
      "(3503, 30, 99) (3503, 5)\n",
      "(390, 30, 99) (390, 5)\n"
     ]
    }
   ],
   "source": [
    "from sklearn.model_selection import train_test_split\n",
    "\n",
    "x_data = x_data.astype(np.float32)\n",
    "y_data = y_data.astype(np.float32)\n",
    "\n",
    "x_train, x_val, y_train, y_val = train_test_split(x_data, y_data, test_size=0.1, random_state=2021)\n",
    "\n",
    "print(x_train.shape, y_train.shape)\n",
    "print(x_val.shape, y_val.shape)"
   ]
  },
  {
   "cell_type": "code",
   "execution_count": 6,
   "metadata": {},
   "outputs": [
    {
     "name": "stderr",
     "output_type": "stream",
     "text": [
      "c:\\Users\\302-26\\anaconda3\\Lib\\site-packages\\keras\\src\\layers\\rnn\\rnn.py:200: UserWarning: Do not pass an `input_shape`/`input_dim` argument to a layer. When using Sequential models, prefer using an `Input(shape)` object as the first layer in the model instead.\n",
      "  super().__init__(**kwargs)\n"
     ]
    },
    {
     "data": {
      "text/html": [
       "<pre style=\"white-space:pre;overflow-x:auto;line-height:normal;font-family:Menlo,'DejaVu Sans Mono',consolas,'Courier New',monospace\"><span style=\"font-weight: bold\">Model: \"sequential\"</span>\n",
       "</pre>\n"
      ],
      "text/plain": [
       "\u001b[1mModel: \"sequential\"\u001b[0m\n"
      ]
     },
     "metadata": {},
     "output_type": "display_data"
    },
    {
     "data": {
      "text/html": [
       "<pre style=\"white-space:pre;overflow-x:auto;line-height:normal;font-family:Menlo,'DejaVu Sans Mono',consolas,'Courier New',monospace\">┏━━━━━━━━━━━━━━━━━━━━━━━━━━━━━━━━━┳━━━━━━━━━━━━━━━━━━━━━━━━┳━━━━━━━━━━━━━━━┓\n",
       "┃<span style=\"font-weight: bold\"> Layer (type)                    </span>┃<span style=\"font-weight: bold\"> Output Shape           </span>┃<span style=\"font-weight: bold\">       Param # </span>┃\n",
       "┡━━━━━━━━━━━━━━━━━━━━━━━━━━━━━━━━━╇━━━━━━━━━━━━━━━━━━━━━━━━╇━━━━━━━━━━━━━━━┩\n",
       "│ lstm (<span style=\"color: #0087ff; text-decoration-color: #0087ff\">LSTM</span>)                     │ (<span style=\"color: #00d7ff; text-decoration-color: #00d7ff\">None</span>, <span style=\"color: #00af00; text-decoration-color: #00af00\">64</span>)             │        <span style=\"color: #00af00; text-decoration-color: #00af00\">41,984</span> │\n",
       "├─────────────────────────────────┼────────────────────────┼───────────────┤\n",
       "│ dense (<span style=\"color: #0087ff; text-decoration-color: #0087ff\">Dense</span>)                   │ (<span style=\"color: #00d7ff; text-decoration-color: #00d7ff\">None</span>, <span style=\"color: #00af00; text-decoration-color: #00af00\">32</span>)             │         <span style=\"color: #00af00; text-decoration-color: #00af00\">2,080</span> │\n",
       "├─────────────────────────────────┼────────────────────────┼───────────────┤\n",
       "│ dense_1 (<span style=\"color: #0087ff; text-decoration-color: #0087ff\">Dense</span>)                 │ (<span style=\"color: #00d7ff; text-decoration-color: #00d7ff\">None</span>, <span style=\"color: #00af00; text-decoration-color: #00af00\">5</span>)              │           <span style=\"color: #00af00; text-decoration-color: #00af00\">165</span> │\n",
       "└─────────────────────────────────┴────────────────────────┴───────────────┘\n",
       "</pre>\n"
      ],
      "text/plain": [
       "┏━━━━━━━━━━━━━━━━━━━━━━━━━━━━━━━━━┳━━━━━━━━━━━━━━━━━━━━━━━━┳━━━━━━━━━━━━━━━┓\n",
       "┃\u001b[1m \u001b[0m\u001b[1mLayer (type)                   \u001b[0m\u001b[1m \u001b[0m┃\u001b[1m \u001b[0m\u001b[1mOutput Shape          \u001b[0m\u001b[1m \u001b[0m┃\u001b[1m \u001b[0m\u001b[1m      Param #\u001b[0m\u001b[1m \u001b[0m┃\n",
       "┡━━━━━━━━━━━━━━━━━━━━━━━━━━━━━━━━━╇━━━━━━━━━━━━━━━━━━━━━━━━╇━━━━━━━━━━━━━━━┩\n",
       "│ lstm (\u001b[38;5;33mLSTM\u001b[0m)                     │ (\u001b[38;5;45mNone\u001b[0m, \u001b[38;5;34m64\u001b[0m)             │        \u001b[38;5;34m41,984\u001b[0m │\n",
       "├─────────────────────────────────┼────────────────────────┼───────────────┤\n",
       "│ dense (\u001b[38;5;33mDense\u001b[0m)                   │ (\u001b[38;5;45mNone\u001b[0m, \u001b[38;5;34m32\u001b[0m)             │         \u001b[38;5;34m2,080\u001b[0m │\n",
       "├─────────────────────────────────┼────────────────────────┼───────────────┤\n",
       "│ dense_1 (\u001b[38;5;33mDense\u001b[0m)                 │ (\u001b[38;5;45mNone\u001b[0m, \u001b[38;5;34m5\u001b[0m)              │           \u001b[38;5;34m165\u001b[0m │\n",
       "└─────────────────────────────────┴────────────────────────┴───────────────┘\n"
      ]
     },
     "metadata": {},
     "output_type": "display_data"
    },
    {
     "data": {
      "text/html": [
       "<pre style=\"white-space:pre;overflow-x:auto;line-height:normal;font-family:Menlo,'DejaVu Sans Mono',consolas,'Courier New',monospace\"><span style=\"font-weight: bold\"> Total params: </span><span style=\"color: #00af00; text-decoration-color: #00af00\">44,229</span> (172.77 KB)\n",
       "</pre>\n"
      ],
      "text/plain": [
       "\u001b[1m Total params: \u001b[0m\u001b[38;5;34m44,229\u001b[0m (172.77 KB)\n"
      ]
     },
     "metadata": {},
     "output_type": "display_data"
    },
    {
     "data": {
      "text/html": [
       "<pre style=\"white-space:pre;overflow-x:auto;line-height:normal;font-family:Menlo,'DejaVu Sans Mono',consolas,'Courier New',monospace\"><span style=\"font-weight: bold\"> Trainable params: </span><span style=\"color: #00af00; text-decoration-color: #00af00\">44,229</span> (172.77 KB)\n",
       "</pre>\n"
      ],
      "text/plain": [
       "\u001b[1m Trainable params: \u001b[0m\u001b[38;5;34m44,229\u001b[0m (172.77 KB)\n"
      ]
     },
     "metadata": {},
     "output_type": "display_data"
    },
    {
     "data": {
      "text/html": [
       "<pre style=\"white-space:pre;overflow-x:auto;line-height:normal;font-family:Menlo,'DejaVu Sans Mono',consolas,'Courier New',monospace\"><span style=\"font-weight: bold\"> Non-trainable params: </span><span style=\"color: #00af00; text-decoration-color: #00af00\">0</span> (0.00 B)\n",
       "</pre>\n"
      ],
      "text/plain": [
       "\u001b[1m Non-trainable params: \u001b[0m\u001b[38;5;34m0\u001b[0m (0.00 B)\n"
      ]
     },
     "metadata": {},
     "output_type": "display_data"
    }
   ],
   "source": [
    "from tensorflow.keras.models import Sequential\n",
    "from tensorflow.keras.layers import LSTM, Dense\n",
    "\n",
    "model = Sequential([\n",
    "    LSTM(64, activation='relu', input_shape=x_train.shape[1:3]),\n",
    "    Dense(32, activation='relu'),\n",
    "    Dense(len(actions), activation='softmax')\n",
    "])\n",
    "\n",
    "model.compile(optimizer='adam', loss='categorical_crossentropy', metrics=['acc'])\n",
    "model.summary()"
   ]
  },
  {
   "cell_type": "code",
   "execution_count": 7,
   "metadata": {
    "scrolled": true
   },
   "outputs": [
    {
     "name": "stdout",
     "output_type": "stream",
     "text": [
      "Epoch 1/200\n",
      "\u001b[1m103/110\u001b[0m \u001b[32m━━━━━━━━━━━━━━━━━━\u001b[0m\u001b[37m━━\u001b[0m \u001b[1m0s\u001b[0m 6ms/step - acc: 0.4437 - loss: 13.0516\n",
      "Epoch 1: val_acc improved from -inf to 0.87949, saving model to models/model2.h5\n"
     ]
    },
    {
     "name": "stderr",
     "output_type": "stream",
     "text": [
      "WARNING:absl:You are saving your model as an HDF5 file via `model.save()` or `keras.saving.save_model(model)`. This file format is considered legacy. We recommend using instead the native Keras format, e.g. `model.save('my_model.keras')` or `keras.saving.save_model(model, 'my_model.keras')`. \n"
     ]
    },
    {
     "name": "stdout",
     "output_type": "stream",
     "text": [
      "\u001b[1m110/110\u001b[0m \u001b[32m━━━━━━━━━━━━━━━━━━━━\u001b[0m\u001b[37m\u001b[0m \u001b[1m3s\u001b[0m 10ms/step - acc: 0.4586 - loss: 12.6502 - val_acc: 0.8795 - val_loss: 1.1953 - learning_rate: 0.0010\n",
      "Epoch 2/200\n",
      "\u001b[1m104/110\u001b[0m \u001b[32m━━━━━━━━━━━━━━━━━━\u001b[0m\u001b[37m━━\u001b[0m \u001b[1m0s\u001b[0m 6ms/step - acc: 0.8257 - loss: 1.6276\n",
      "Epoch 2: val_acc did not improve from 0.87949\n",
      "\u001b[1m110/110\u001b[0m \u001b[32m━━━━━━━━━━━━━━━━━━━━\u001b[0m\u001b[37m\u001b[0m \u001b[1m1s\u001b[0m 7ms/step - acc: 0.8239 - loss: 1.6103 - val_acc: 0.8744 - val_loss: 1.4916 - learning_rate: 0.0010\n",
      "Epoch 3/200\n",
      "\u001b[1m100/110\u001b[0m \u001b[32m━━━━━━━━━━━━━━━━━━\u001b[0m\u001b[37m━━\u001b[0m \u001b[1m0s\u001b[0m 6ms/step - acc: 0.8017 - loss: 3.0712\n",
      "Epoch 3: val_acc did not improve from 0.87949\n",
      "\u001b[1m110/110\u001b[0m \u001b[32m━━━━━━━━━━━━━━━━━━━━\u001b[0m\u001b[37m\u001b[0m \u001b[1m1s\u001b[0m 7ms/step - acc: 0.7893 - loss: 3.2304 - val_acc: 0.6231 - val_loss: 2.6477 - learning_rate: 0.0010\n",
      "Epoch 4/200\n",
      "\u001b[1m101/110\u001b[0m \u001b[32m━━━━━━━━━━━━━━━━━━\u001b[0m\u001b[37m━━\u001b[0m \u001b[1m0s\u001b[0m 6ms/step - acc: 0.7506 - loss: 1.8410\n",
      "Epoch 4: val_acc did not improve from 0.87949\n",
      "\u001b[1m110/110\u001b[0m \u001b[32m━━━━━━━━━━━━━━━━━━━━\u001b[0m\u001b[37m\u001b[0m \u001b[1m1s\u001b[0m 6ms/step - acc: 0.7529 - loss: 1.8113 - val_acc: 0.8077 - val_loss: 1.1522 - learning_rate: 0.0010\n",
      "Epoch 5/200\n",
      "\u001b[1m102/110\u001b[0m \u001b[32m━━━━━━━━━━━━━━━━━━\u001b[0m\u001b[37m━━\u001b[0m \u001b[1m0s\u001b[0m 6ms/step - acc: 0.8568 - loss: 1.0304\n",
      "Epoch 5: val_acc did not improve from 0.87949\n",
      "\u001b[1m110/110\u001b[0m \u001b[32m━━━━━━━━━━━━━━━━━━━━\u001b[0m\u001b[37m\u001b[0m \u001b[1m1s\u001b[0m 7ms/step - acc: 0.8561 - loss: 1.0313 - val_acc: 0.8359 - val_loss: 0.7236 - learning_rate: 0.0010\n",
      "Epoch 6/200\n",
      "\u001b[1m103/110\u001b[0m \u001b[32m━━━━━━━━━━━━━━━━━━\u001b[0m\u001b[37m━━\u001b[0m \u001b[1m0s\u001b[0m 6ms/step - acc: 0.8826 - loss: 0.4386\n",
      "Epoch 6: val_acc improved from 0.87949 to 0.90000, saving model to models/model2.h5\n"
     ]
    },
    {
     "name": "stderr",
     "output_type": "stream",
     "text": [
      "WARNING:absl:You are saving your model as an HDF5 file via `model.save()` or `keras.saving.save_model(model)`. This file format is considered legacy. We recommend using instead the native Keras format, e.g. `model.save('my_model.keras')` or `keras.saving.save_model(model, 'my_model.keras')`. \n"
     ]
    },
    {
     "name": "stdout",
     "output_type": "stream",
     "text": [
      "\u001b[1m110/110\u001b[0m \u001b[32m━━━━━━━━━━━━━━━━━━━━\u001b[0m\u001b[37m\u001b[0m \u001b[1m1s\u001b[0m 7ms/step - acc: 0.8847 - loss: 0.4322 - val_acc: 0.9000 - val_loss: 0.3666 - learning_rate: 0.0010\n",
      "Epoch 7/200\n",
      "\u001b[1m105/110\u001b[0m \u001b[32m━━━━━━━━━━━━━━━━━━━\u001b[0m\u001b[37m━\u001b[0m \u001b[1m0s\u001b[0m 6ms/step - acc: 0.8817 - loss: 0.5799\n",
      "Epoch 7: val_acc did not improve from 0.90000\n",
      "\u001b[1m110/110\u001b[0m \u001b[32m━━━━━━━━━━━━━━━━━━━━\u001b[0m\u001b[37m\u001b[0m \u001b[1m1s\u001b[0m 7ms/step - acc: 0.8812 - loss: 0.5813 - val_acc: 0.8615 - val_loss: 0.3862 - learning_rate: 0.0010\n",
      "Epoch 8/200\n",
      "\u001b[1m104/110\u001b[0m \u001b[32m━━━━━━━━━━━━━━━━━━\u001b[0m\u001b[37m━━\u001b[0m \u001b[1m0s\u001b[0m 6ms/step - acc: 0.9125 - loss: 0.3647\n",
      "Epoch 8: val_acc improved from 0.90000 to 0.94615, saving model to models/model2.h5\n"
     ]
    },
    {
     "name": "stderr",
     "output_type": "stream",
     "text": [
      "WARNING:absl:You are saving your model as an HDF5 file via `model.save()` or `keras.saving.save_model(model)`. This file format is considered legacy. We recommend using instead the native Keras format, e.g. `model.save('my_model.keras')` or `keras.saving.save_model(model, 'my_model.keras')`. \n"
     ]
    },
    {
     "name": "stdout",
     "output_type": "stream",
     "text": [
      "\u001b[1m110/110\u001b[0m \u001b[32m━━━━━━━━━━━━━━━━━━━━\u001b[0m\u001b[37m\u001b[0m \u001b[1m1s\u001b[0m 7ms/step - acc: 0.9133 - loss: 0.3604 - val_acc: 0.9462 - val_loss: 0.1634 - learning_rate: 0.0010\n",
      "Epoch 9/200\n",
      "\u001b[1m101/110\u001b[0m \u001b[32m━━━━━━━━━━━━━━━━━━\u001b[0m\u001b[37m━━\u001b[0m \u001b[1m0s\u001b[0m 6ms/step - acc: 0.9365 - loss: 0.2370\n",
      "Epoch 9: val_acc did not improve from 0.94615\n",
      "\u001b[1m110/110\u001b[0m \u001b[32m━━━━━━━━━━━━━━━━━━━━\u001b[0m\u001b[37m\u001b[0m \u001b[1m1s\u001b[0m 7ms/step - acc: 0.9340 - loss: 0.2497 - val_acc: 0.7821 - val_loss: 0.7428 - learning_rate: 0.0010\n",
      "Epoch 10/200\n",
      "\u001b[1m109/110\u001b[0m \u001b[32m━━━━━━━━━━━━━━━━━━━\u001b[0m\u001b[37m━\u001b[0m \u001b[1m0s\u001b[0m 6ms/step - acc: 0.8902 - loss: 0.4595\n",
      "Epoch 10: val_acc improved from 0.94615 to 0.96410, saving model to models/model2.h5\n"
     ]
    },
    {
     "name": "stderr",
     "output_type": "stream",
     "text": [
      "WARNING:absl:You are saving your model as an HDF5 file via `model.save()` or `keras.saving.save_model(model)`. This file format is considered legacy. We recommend using instead the native Keras format, e.g. `model.save('my_model.keras')` or `keras.saving.save_model(model, 'my_model.keras')`. \n"
     ]
    },
    {
     "name": "stdout",
     "output_type": "stream",
     "text": [
      "\u001b[1m110/110\u001b[0m \u001b[32m━━━━━━━━━━━━━━━━━━━━\u001b[0m\u001b[37m\u001b[0m \u001b[1m1s\u001b[0m 7ms/step - acc: 0.8909 - loss: 0.4565 - val_acc: 0.9641 - val_loss: 0.1302 - learning_rate: 0.0010\n",
      "Epoch 11/200\n",
      "\u001b[1m101/110\u001b[0m \u001b[32m━━━━━━━━━━━━━━━━━━\u001b[0m\u001b[37m━━\u001b[0m \u001b[1m0s\u001b[0m 6ms/step - acc: 0.9678 - loss: 0.1190\n",
      "Epoch 11: val_acc improved from 0.96410 to 0.97179, saving model to models/model2.h5\n"
     ]
    },
    {
     "name": "stderr",
     "output_type": "stream",
     "text": [
      "WARNING:absl:You are saving your model as an HDF5 file via `model.save()` or `keras.saving.save_model(model)`. This file format is considered legacy. We recommend using instead the native Keras format, e.g. `model.save('my_model.keras')` or `keras.saving.save_model(model, 'my_model.keras')`. \n"
     ]
    },
    {
     "name": "stdout",
     "output_type": "stream",
     "text": [
      "\u001b[1m110/110\u001b[0m \u001b[32m━━━━━━━━━━━━━━━━━━━━\u001b[0m\u001b[37m\u001b[0m \u001b[1m1s\u001b[0m 7ms/step - acc: 0.9681 - loss: 0.1179 - val_acc: 0.9718 - val_loss: 0.1115 - learning_rate: 0.0010\n",
      "Epoch 12/200\n",
      "\u001b[1m101/110\u001b[0m \u001b[32m━━━━━━━━━━━━━━━━━━\u001b[0m\u001b[37m━━\u001b[0m \u001b[1m0s\u001b[0m 6ms/step - acc: 0.9700 - loss: 0.1146\n",
      "Epoch 12: val_acc did not improve from 0.97179\n",
      "\u001b[1m110/110\u001b[0m \u001b[32m━━━━━━━━━━━━━━━━━━━━\u001b[0m\u001b[37m\u001b[0m \u001b[1m1s\u001b[0m 7ms/step - acc: 0.9702 - loss: 0.1143 - val_acc: 0.9692 - val_loss: 0.1387 - learning_rate: 0.0010\n",
      "Epoch 13/200\n",
      "\u001b[1m103/110\u001b[0m \u001b[32m━━━━━━━━━━━━━━━━━━\u001b[0m\u001b[37m━━\u001b[0m \u001b[1m0s\u001b[0m 6ms/step - acc: 0.9767 - loss: 0.1440\n",
      "Epoch 13: val_acc did not improve from 0.97179\n",
      "\u001b[1m110/110\u001b[0m \u001b[32m━━━━━━━━━━━━━━━━━━━━\u001b[0m\u001b[37m\u001b[0m \u001b[1m1s\u001b[0m 7ms/step - acc: 0.9770 - loss: 0.1427 - val_acc: 0.9718 - val_loss: 0.0831 - learning_rate: 0.0010\n",
      "Epoch 14/200\n",
      "\u001b[1m107/110\u001b[0m \u001b[32m━━━━━━━━━━━━━━━━━━━\u001b[0m\u001b[37m━\u001b[0m \u001b[1m0s\u001b[0m 6ms/step - acc: 0.9828 - loss: 0.0691\n",
      "Epoch 14: val_acc improved from 0.97179 to 0.98205, saving model to models/model2.h5\n"
     ]
    },
    {
     "name": "stderr",
     "output_type": "stream",
     "text": [
      "WARNING:absl:You are saving your model as an HDF5 file via `model.save()` or `keras.saving.save_model(model)`. This file format is considered legacy. We recommend using instead the native Keras format, e.g. `model.save('my_model.keras')` or `keras.saving.save_model(model, 'my_model.keras')`. \n"
     ]
    },
    {
     "name": "stdout",
     "output_type": "stream",
     "text": [
      "\u001b[1m110/110\u001b[0m \u001b[32m━━━━━━━━━━━━━━━━━━━━\u001b[0m\u001b[37m\u001b[0m \u001b[1m1s\u001b[0m 7ms/step - acc: 0.9829 - loss: 0.0686 - val_acc: 0.9821 - val_loss: 0.0565 - learning_rate: 0.0010\n",
      "Epoch 15/200\n",
      "\u001b[1m109/110\u001b[0m \u001b[32m━━━━━━━━━━━━━━━━━━━\u001b[0m\u001b[37m━\u001b[0m \u001b[1m0s\u001b[0m 6ms/step - acc: 0.9887 - loss: 0.0425\n",
      "Epoch 15: val_acc improved from 0.98205 to 0.98462, saving model to models/model2.h5\n"
     ]
    },
    {
     "name": "stderr",
     "output_type": "stream",
     "text": [
      "WARNING:absl:You are saving your model as an HDF5 file via `model.save()` or `keras.saving.save_model(model)`. This file format is considered legacy. We recommend using instead the native Keras format, e.g. `model.save('my_model.keras')` or `keras.saving.save_model(model, 'my_model.keras')`. \n"
     ]
    },
    {
     "name": "stdout",
     "output_type": "stream",
     "text": [
      "\u001b[1m110/110\u001b[0m \u001b[32m━━━━━━━━━━━━━━━━━━━━\u001b[0m\u001b[37m\u001b[0m \u001b[1m1s\u001b[0m 7ms/step - acc: 0.9887 - loss: 0.0425 - val_acc: 0.9846 - val_loss: 0.0448 - learning_rate: 0.0010\n",
      "Epoch 16/200\n",
      "\u001b[1m106/110\u001b[0m \u001b[32m━━━━━━━━━━━━━━━━━━━\u001b[0m\u001b[37m━\u001b[0m \u001b[1m0s\u001b[0m 6ms/step - acc: 0.9941 - loss: 0.0333\n",
      "Epoch 16: val_acc improved from 0.98462 to 0.98718, saving model to models/model2.h5\n"
     ]
    },
    {
     "name": "stderr",
     "output_type": "stream",
     "text": [
      "WARNING:absl:You are saving your model as an HDF5 file via `model.save()` or `keras.saving.save_model(model)`. This file format is considered legacy. We recommend using instead the native Keras format, e.g. `model.save('my_model.keras')` or `keras.saving.save_model(model, 'my_model.keras')`. \n"
     ]
    },
    {
     "name": "stdout",
     "output_type": "stream",
     "text": [
      "\u001b[1m110/110\u001b[0m \u001b[32m━━━━━━━━━━━━━━━━━━━━\u001b[0m\u001b[37m\u001b[0m \u001b[1m1s\u001b[0m 7ms/step - acc: 0.9941 - loss: 0.0333 - val_acc: 0.9872 - val_loss: 0.0510 - learning_rate: 0.0010\n",
      "Epoch 17/200\n",
      "\u001b[1m101/110\u001b[0m \u001b[32m━━━━━━━━━━━━━━━━━━\u001b[0m\u001b[37m━━\u001b[0m \u001b[1m0s\u001b[0m 6ms/step - acc: 0.9979 - loss: 0.0214\n",
      "Epoch 17: val_acc improved from 0.98718 to 0.98974, saving model to models/model2.h5\n"
     ]
    },
    {
     "name": "stderr",
     "output_type": "stream",
     "text": [
      "WARNING:absl:You are saving your model as an HDF5 file via `model.save()` or `keras.saving.save_model(model)`. This file format is considered legacy. We recommend using instead the native Keras format, e.g. `model.save('my_model.keras')` or `keras.saving.save_model(model, 'my_model.keras')`. \n"
     ]
    },
    {
     "name": "stdout",
     "output_type": "stream",
     "text": [
      "\u001b[1m110/110\u001b[0m \u001b[32m━━━━━━━━━━━━━━━━━━━━\u001b[0m\u001b[37m\u001b[0m \u001b[1m1s\u001b[0m 7ms/step - acc: 0.9978 - loss: 0.0216 - val_acc: 0.9897 - val_loss: 0.0444 - learning_rate: 0.0010\n",
      "Epoch 18/200\n",
      "\u001b[1m110/110\u001b[0m \u001b[32m━━━━━━━━━━━━━━━━━━━━\u001b[0m\u001b[37m\u001b[0m \u001b[1m0s\u001b[0m 6ms/step - acc: 0.9962 - loss: 0.0176\n",
      "Epoch 18: val_acc improved from 0.98974 to 0.99231, saving model to models/model2.h5\n"
     ]
    },
    {
     "name": "stderr",
     "output_type": "stream",
     "text": [
      "WARNING:absl:You are saving your model as an HDF5 file via `model.save()` or `keras.saving.save_model(model)`. This file format is considered legacy. We recommend using instead the native Keras format, e.g. `model.save('my_model.keras')` or `keras.saving.save_model(model, 'my_model.keras')`. \n"
     ]
    },
    {
     "name": "stdout",
     "output_type": "stream",
     "text": [
      "\u001b[1m110/110\u001b[0m \u001b[32m━━━━━━━━━━━━━━━━━━━━\u001b[0m\u001b[37m\u001b[0m \u001b[1m1s\u001b[0m 7ms/step - acc: 0.9962 - loss: 0.0176 - val_acc: 0.9923 - val_loss: 0.0250 - learning_rate: 0.0010\n",
      "Epoch 19/200\n",
      "\u001b[1m102/110\u001b[0m \u001b[32m━━━━━━━━━━━━━━━━━━\u001b[0m\u001b[37m━━\u001b[0m \u001b[1m0s\u001b[0m 6ms/step - acc: 0.9980 - loss: 0.0142\n",
      "Epoch 19: val_acc improved from 0.99231 to 0.99487, saving model to models/model2.h5\n"
     ]
    },
    {
     "name": "stderr",
     "output_type": "stream",
     "text": [
      "WARNING:absl:You are saving your model as an HDF5 file via `model.save()` or `keras.saving.save_model(model)`. This file format is considered legacy. We recommend using instead the native Keras format, e.g. `model.save('my_model.keras')` or `keras.saving.save_model(model, 'my_model.keras')`. \n"
     ]
    },
    {
     "name": "stdout",
     "output_type": "stream",
     "text": [
      "\u001b[1m110/110\u001b[0m \u001b[32m━━━━━━━━━━━━━━━━━━━━\u001b[0m\u001b[37m\u001b[0m \u001b[1m1s\u001b[0m 6ms/step - acc: 0.9981 - loss: 0.0139 - val_acc: 0.9949 - val_loss: 0.0186 - learning_rate: 0.0010\n",
      "Epoch 20/200\n",
      "\u001b[1m106/110\u001b[0m \u001b[32m━━━━━━━━━━━━━━━━━━━\u001b[0m\u001b[37m━\u001b[0m \u001b[1m0s\u001b[0m 6ms/step - acc: 0.9998 - loss: 0.0074\n",
      "Epoch 20: val_acc improved from 0.99487 to 1.00000, saving model to models/model2.h5\n"
     ]
    },
    {
     "name": "stderr",
     "output_type": "stream",
     "text": [
      "WARNING:absl:You are saving your model as an HDF5 file via `model.save()` or `keras.saving.save_model(model)`. This file format is considered legacy. We recommend using instead the native Keras format, e.g. `model.save('my_model.keras')` or `keras.saving.save_model(model, 'my_model.keras')`. \n"
     ]
    },
    {
     "name": "stdout",
     "output_type": "stream",
     "text": [
      "\u001b[1m110/110\u001b[0m \u001b[32m━━━━━━━━━━━━━━━━━━━━\u001b[0m\u001b[37m\u001b[0m \u001b[1m1s\u001b[0m 7ms/step - acc: 0.9997 - loss: 0.0074 - val_acc: 1.0000 - val_loss: 0.0096 - learning_rate: 0.0010\n",
      "Epoch 21/200\n",
      "\u001b[1m109/110\u001b[0m \u001b[32m━━━━━━━━━━━━━━━━━━━\u001b[0m\u001b[37m━\u001b[0m \u001b[1m0s\u001b[0m 6ms/step - acc: 0.9995 - loss: 0.0067\n",
      "Epoch 21: val_acc did not improve from 1.00000\n",
      "\u001b[1m110/110\u001b[0m \u001b[32m━━━━━━━━━━━━━━━━━━━━\u001b[0m\u001b[37m\u001b[0m \u001b[1m1s\u001b[0m 7ms/step - acc: 0.9995 - loss: 0.0067 - val_acc: 0.9974 - val_loss: 0.0083 - learning_rate: 0.0010\n",
      "Epoch 22/200\n",
      "\u001b[1m109/110\u001b[0m \u001b[32m━━━━━━━━━━━━━━━━━━━\u001b[0m\u001b[37m━\u001b[0m \u001b[1m0s\u001b[0m 6ms/step - acc: 1.0000 - loss: 0.0041\n",
      "Epoch 22: val_acc did not improve from 1.00000\n",
      "\u001b[1m110/110\u001b[0m \u001b[32m━━━━━━━━━━━━━━━━━━━━\u001b[0m\u001b[37m\u001b[0m \u001b[1m1s\u001b[0m 6ms/step - acc: 1.0000 - loss: 0.0041 - val_acc: 1.0000 - val_loss: 0.0055 - learning_rate: 0.0010\n",
      "Epoch 23/200\n",
      "\u001b[1m106/110\u001b[0m \u001b[32m━━━━━━━━━━━━━━━━━━━\u001b[0m\u001b[37m━\u001b[0m \u001b[1m0s\u001b[0m 6ms/step - acc: 0.9996 - loss: 0.0046\n",
      "Epoch 23: val_acc did not improve from 1.00000\n",
      "\u001b[1m110/110\u001b[0m \u001b[32m━━━━━━━━━━━━━━━━━━━━\u001b[0m\u001b[37m\u001b[0m \u001b[1m1s\u001b[0m 7ms/step - acc: 0.9996 - loss: 0.0047 - val_acc: 1.0000 - val_loss: 0.0066 - learning_rate: 0.0010\n",
      "Epoch 24/200\n",
      "\u001b[1m104/110\u001b[0m \u001b[32m━━━━━━━━━━━━━━━━━━\u001b[0m\u001b[37m━━\u001b[0m \u001b[1m0s\u001b[0m 6ms/step - acc: 1.0000 - loss: 0.0046\n",
      "Epoch 24: val_acc did not improve from 1.00000\n",
      "\u001b[1m110/110\u001b[0m \u001b[32m━━━━━━━━━━━━━━━━━━━━\u001b[0m\u001b[37m\u001b[0m \u001b[1m1s\u001b[0m 7ms/step - acc: 1.0000 - loss: 0.0046 - val_acc: 1.0000 - val_loss: 0.0066 - learning_rate: 0.0010\n",
      "Epoch 25/200\n",
      "\u001b[1m110/110\u001b[0m \u001b[32m━━━━━━━━━━━━━━━━━━━━\u001b[0m\u001b[37m\u001b[0m \u001b[1m0s\u001b[0m 6ms/step - acc: 0.9902 - loss: 0.0766\n",
      "Epoch 25: val_acc did not improve from 1.00000\n",
      "\u001b[1m110/110\u001b[0m \u001b[32m━━━━━━━━━━━━━━━━━━━━\u001b[0m\u001b[37m\u001b[0m \u001b[1m1s\u001b[0m 7ms/step - acc: 0.9898 - loss: 0.0798 - val_acc: 0.7744 - val_loss: 1.1694 - learning_rate: 0.0010\n",
      "Epoch 26/200\n",
      "\u001b[1m106/110\u001b[0m \u001b[32m━━━━━━━━━━━━━━━━━━━\u001b[0m\u001b[37m━\u001b[0m \u001b[1m0s\u001b[0m 6ms/step - acc: 0.7432 - loss: 5.8948\n",
      "Epoch 26: val_acc did not improve from 1.00000\n",
      "\u001b[1m110/110\u001b[0m \u001b[32m━━━━━━━━━━━━━━━━━━━━\u001b[0m\u001b[37m\u001b[0m \u001b[1m1s\u001b[0m 7ms/step - acc: 0.7356 - loss: 6.5532 - val_acc: 0.4077 - val_loss: 10.5582 - learning_rate: 0.0010\n",
      "Epoch 27/200\n",
      "\u001b[1m109/110\u001b[0m \u001b[32m━━━━━━━━━━━━━━━━━━━\u001b[0m\u001b[37m━\u001b[0m \u001b[1m0s\u001b[0m 6ms/step - acc: 0.4808 - loss: 3.6418\n",
      "Epoch 27: val_acc did not improve from 1.00000\n",
      "\u001b[1m110/110\u001b[0m \u001b[32m━━━━━━━━━━━━━━━━━━━━\u001b[0m\u001b[37m\u001b[0m \u001b[1m1s\u001b[0m 7ms/step - acc: 0.4813 - loss: 3.6372 - val_acc: 0.5282 - val_loss: 1.8963 - learning_rate: 0.0010\n",
      "Epoch 28/200\n",
      "\u001b[1m108/110\u001b[0m \u001b[32m━━━━━━━━━━━━━━━━━━━\u001b[0m\u001b[37m━\u001b[0m \u001b[1m0s\u001b[0m 6ms/step - acc: 0.5804 - loss: 1.7524\n",
      "Epoch 28: val_acc did not improve from 1.00000\n",
      "\u001b[1m110/110\u001b[0m \u001b[32m━━━━━━━━━━━━━━━━━━━━\u001b[0m\u001b[37m\u001b[0m \u001b[1m1s\u001b[0m 7ms/step - acc: 0.5814 - loss: 1.7473 - val_acc: 0.5744 - val_loss: 1.2020 - learning_rate: 0.0010\n",
      "Epoch 29/200\n",
      "\u001b[1m109/110\u001b[0m \u001b[32m━━━━━━━━━━━━━━━━━━━\u001b[0m\u001b[37m━\u001b[0m \u001b[1m0s\u001b[0m 6ms/step - acc: 0.6416 - loss: 1.1953\n",
      "Epoch 29: val_acc did not improve from 1.00000\n",
      "\u001b[1m110/110\u001b[0m \u001b[32m━━━━━━━━━━━━━━━━━━━━\u001b[0m\u001b[37m\u001b[0m \u001b[1m1s\u001b[0m 7ms/step - acc: 0.6417 - loss: 1.1948 - val_acc: 0.6282 - val_loss: 1.0671 - learning_rate: 0.0010\n",
      "Epoch 30/200\n",
      "\u001b[1m108/110\u001b[0m \u001b[32m━━━━━━━━━━━━━━━━━━━\u001b[0m\u001b[37m━\u001b[0m \u001b[1m0s\u001b[0m 6ms/step - acc: 0.6319 - loss: 1.2253\n",
      "Epoch 30: val_acc did not improve from 1.00000\n",
      "\u001b[1m110/110\u001b[0m \u001b[32m━━━━━━━━━━━━━━━━━━━━\u001b[0m\u001b[37m\u001b[0m \u001b[1m1s\u001b[0m 7ms/step - acc: 0.6316 - loss: 1.2260 - val_acc: 0.7282 - val_loss: 0.8935 - learning_rate: 0.0010\n",
      "Epoch 31/200\n",
      "\u001b[1m105/110\u001b[0m \u001b[32m━━━━━━━━━━━━━━━━━━━\u001b[0m\u001b[37m━\u001b[0m \u001b[1m0s\u001b[0m 6ms/step - acc: 0.6937 - loss: 0.8883\n",
      "Epoch 31: val_acc did not improve from 1.00000\n",
      "\u001b[1m110/110\u001b[0m \u001b[32m━━━━━━━━━━━━━━━━━━━━\u001b[0m\u001b[37m\u001b[0m \u001b[1m1s\u001b[0m 6ms/step - acc: 0.6944 - loss: 0.8872 - val_acc: 0.7513 - val_loss: 0.7858 - learning_rate: 0.0010\n",
      "Epoch 32/200\n",
      "\u001b[1m105/110\u001b[0m \u001b[32m━━━━━━━━━━━━━━━━━━━\u001b[0m\u001b[37m━\u001b[0m \u001b[1m0s\u001b[0m 6ms/step - acc: 0.7448 - loss: 0.7846\n",
      "Epoch 32: val_acc did not improve from 1.00000\n",
      "\u001b[1m110/110\u001b[0m \u001b[32m━━━━━━━━━━━━━━━━━━━━\u001b[0m\u001b[37m\u001b[0m \u001b[1m1s\u001b[0m 6ms/step - acc: 0.7447 - loss: 0.7843 - val_acc: 0.7744 - val_loss: 0.8899 - learning_rate: 0.0010\n",
      "Epoch 33/200\n",
      "\u001b[1m103/110\u001b[0m \u001b[32m━━━━━━━━━━━━━━━━━━\u001b[0m\u001b[37m━━\u001b[0m \u001b[1m0s\u001b[0m 6ms/step - acc: 0.7550 - loss: 0.7098\n",
      "Epoch 33: val_acc did not improve from 1.00000\n",
      "\u001b[1m110/110\u001b[0m \u001b[32m━━━━━━━━━━━━━━━━━━━━\u001b[0m\u001b[37m\u001b[0m \u001b[1m1s\u001b[0m 6ms/step - acc: 0.7564 - loss: 0.7091 - val_acc: 0.7462 - val_loss: 0.8519 - learning_rate: 0.0010\n",
      "Epoch 34/200\n",
      "\u001b[1m109/110\u001b[0m \u001b[32m━━━━━━━━━━━━━━━━━━━\u001b[0m\u001b[37m━\u001b[0m \u001b[1m0s\u001b[0m 6ms/step - acc: 0.7825 - loss: 0.6799\n",
      "Epoch 34: val_acc did not improve from 1.00000\n",
      "\u001b[1m110/110\u001b[0m \u001b[32m━━━━━━━━━━━━━━━━━━━━\u001b[0m\u001b[37m\u001b[0m \u001b[1m1s\u001b[0m 7ms/step - acc: 0.7827 - loss: 0.6794 - val_acc: 0.7667 - val_loss: 0.7405 - learning_rate: 0.0010\n",
      "Epoch 35/200\n",
      "\u001b[1m105/110\u001b[0m \u001b[32m━━━━━━━━━━━━━━━━━━━\u001b[0m\u001b[37m━\u001b[0m \u001b[1m0s\u001b[0m 6ms/step - acc: 0.8299 - loss: 0.5955\n",
      "Epoch 35: val_acc did not improve from 1.00000\n",
      "\u001b[1m110/110\u001b[0m \u001b[32m━━━━━━━━━━━━━━━━━━━━\u001b[0m\u001b[37m\u001b[0m \u001b[1m1s\u001b[0m 7ms/step - acc: 0.8293 - loss: 0.5959 - val_acc: 0.7513 - val_loss: 0.8178 - learning_rate: 0.0010\n",
      "Epoch 36/200\n",
      "\u001b[1m103/110\u001b[0m \u001b[32m━━━━━━━━━━━━━━━━━━\u001b[0m\u001b[37m━━\u001b[0m \u001b[1m0s\u001b[0m 6ms/step - acc: 0.8138 - loss: 0.5650\n",
      "Epoch 36: val_acc did not improve from 1.00000\n",
      "\u001b[1m110/110\u001b[0m \u001b[32m━━━━━━━━━━━━━━━━━━━━\u001b[0m\u001b[37m\u001b[0m \u001b[1m1s\u001b[0m 7ms/step - acc: 0.8151 - loss: 0.5650 - val_acc: 0.8282 - val_loss: 0.7171 - learning_rate: 0.0010\n",
      "Epoch 37/200\n",
      "\u001b[1m107/110\u001b[0m \u001b[32m━━━━━━━━━━━━━━━━━━━\u001b[0m\u001b[37m━\u001b[0m \u001b[1m0s\u001b[0m 6ms/step - acc: 0.8324 - loss: 0.6249\n",
      "Epoch 37: val_acc did not improve from 1.00000\n",
      "\u001b[1m110/110\u001b[0m \u001b[32m━━━━━━━━━━━━━━━━━━━━\u001b[0m\u001b[37m\u001b[0m \u001b[1m1s\u001b[0m 7ms/step - acc: 0.8313 - loss: 0.6326 - val_acc: 0.7923 - val_loss: 1.3534 - learning_rate: 0.0010\n",
      "Epoch 38/200\n",
      "\u001b[1m107/110\u001b[0m \u001b[32m━━━━━━━━━━━━━━━━━━━\u001b[0m\u001b[37m━\u001b[0m \u001b[1m0s\u001b[0m 6ms/step - acc: 0.8044 - loss: 1.1305\n",
      "Epoch 38: val_acc did not improve from 1.00000\n",
      "\u001b[1m110/110\u001b[0m \u001b[32m━━━━━━━━━━━━━━━━━━━━\u001b[0m\u001b[37m\u001b[0m \u001b[1m1s\u001b[0m 6ms/step - acc: 0.8044 - loss: 1.1245 - val_acc: 0.7897 - val_loss: 0.7229 - learning_rate: 0.0010\n",
      "Epoch 39/200\n",
      "\u001b[1m105/110\u001b[0m \u001b[32m━━━━━━━━━━━━━━━━━━━\u001b[0m\u001b[37m━\u001b[0m \u001b[1m0s\u001b[0m 6ms/step - acc: 0.8167 - loss: 1.1813\n",
      "Epoch 39: val_acc did not improve from 1.00000\n",
      "\u001b[1m110/110\u001b[0m \u001b[32m━━━━━━━━━━━━━━━━━━━━\u001b[0m\u001b[37m\u001b[0m \u001b[1m1s\u001b[0m 7ms/step - acc: 0.8094 - loss: 1.2665 - val_acc: 0.5128 - val_loss: 1.1333 - learning_rate: 0.0010\n",
      "Epoch 40/200\n",
      "\u001b[1m109/110\u001b[0m \u001b[32m━━━━━━━━━━━━━━━━━━━\u001b[0m\u001b[37m━\u001b[0m \u001b[1m0s\u001b[0m 6ms/step - acc: 0.6836 - loss: 0.7245\n",
      "Epoch 40: val_acc did not improve from 1.00000\n",
      "\u001b[1m110/110\u001b[0m \u001b[32m━━━━━━━━━━━━━━━━━━━━\u001b[0m\u001b[37m\u001b[0m \u001b[1m1s\u001b[0m 7ms/step - acc: 0.6839 - loss: 0.7225 - val_acc: 0.7385 - val_loss: 0.5319 - learning_rate: 0.0010\n",
      "Epoch 41/200\n",
      "\u001b[1m102/110\u001b[0m \u001b[32m━━━━━━━━━━━━━━━━━━\u001b[0m\u001b[37m━━\u001b[0m \u001b[1m0s\u001b[0m 6ms/step - acc: 0.8338 - loss: 0.3784\n",
      "Epoch 41: val_acc did not improve from 1.00000\n",
      "\u001b[1m110/110\u001b[0m \u001b[32m━━━━━━━━━━━━━━━━━━━━\u001b[0m\u001b[37m\u001b[0m \u001b[1m1s\u001b[0m 7ms/step - acc: 0.8390 - loss: 0.3700 - val_acc: 0.9436 - val_loss: 0.1653 - learning_rate: 0.0010\n",
      "Epoch 42/200\n",
      "\u001b[1m109/110\u001b[0m \u001b[32m━━━━━━━━━━━━━━━━━━━\u001b[0m\u001b[37m━\u001b[0m \u001b[1m0s\u001b[0m 6ms/step - acc: 0.9534 - loss: 0.1125\n",
      "Epoch 42: val_acc did not improve from 1.00000\n",
      "\u001b[1m110/110\u001b[0m \u001b[32m━━━━━━━━━━━━━━━━━━━━\u001b[0m\u001b[37m\u001b[0m \u001b[1m1s\u001b[0m 6ms/step - acc: 0.9536 - loss: 0.1122 - val_acc: 0.9667 - val_loss: 0.0655 - learning_rate: 0.0010\n",
      "Epoch 43/200\n",
      "\u001b[1m106/110\u001b[0m \u001b[32m━━━━━━━━━━━━━━━━━━━\u001b[0m\u001b[37m━\u001b[0m \u001b[1m0s\u001b[0m 6ms/step - acc: 0.9647 - loss: 0.0763\n",
      "Epoch 43: val_acc did not improve from 1.00000\n",
      "\u001b[1m110/110\u001b[0m \u001b[32m━━━━━━━━━━━━━━━━━━━━\u001b[0m\u001b[37m\u001b[0m \u001b[1m1s\u001b[0m 7ms/step - acc: 0.9648 - loss: 0.0763 - val_acc: 0.9718 - val_loss: 0.0645 - learning_rate: 0.0010\n",
      "Epoch 44/200\n",
      "\u001b[1m105/110\u001b[0m \u001b[32m━━━━━━━━━━━━━━━━━━━\u001b[0m\u001b[37m━\u001b[0m \u001b[1m0s\u001b[0m 6ms/step - acc: 0.9853 - loss: 0.0560\n",
      "Epoch 44: val_acc did not improve from 1.00000\n",
      "\u001b[1m110/110\u001b[0m \u001b[32m━━━━━━━━━━━━━━━━━━━━\u001b[0m\u001b[37m\u001b[0m \u001b[1m1s\u001b[0m 6ms/step - acc: 0.9853 - loss: 0.0564 - val_acc: 0.9692 - val_loss: 0.0549 - learning_rate: 0.0010\n",
      "Epoch 45/200\n",
      "\u001b[1m109/110\u001b[0m \u001b[32m━━━━━━━━━━━━━━━━━━━\u001b[0m\u001b[37m━\u001b[0m \u001b[1m0s\u001b[0m 6ms/step - acc: 0.9762 - loss: 0.0541\n",
      "Epoch 45: val_acc did not improve from 1.00000\n",
      "\u001b[1m110/110\u001b[0m \u001b[32m━━━━━━━━━━━━━━━━━━━━\u001b[0m\u001b[37m\u001b[0m \u001b[1m1s\u001b[0m 6ms/step - acc: 0.9765 - loss: 0.0539 - val_acc: 0.9974 - val_loss: 0.0344 - learning_rate: 0.0010\n",
      "Epoch 46/200\n",
      "\u001b[1m109/110\u001b[0m \u001b[32m━━━━━━━━━━━━━━━━━━━\u001b[0m\u001b[37m━\u001b[0m \u001b[1m0s\u001b[0m 6ms/step - acc: 0.9709 - loss: 0.1249\n",
      "Epoch 46: val_acc did not improve from 1.00000\n",
      "\u001b[1m110/110\u001b[0m \u001b[32m━━━━━━━━━━━━━━━━━━━━\u001b[0m\u001b[37m\u001b[0m \u001b[1m1s\u001b[0m 7ms/step - acc: 0.9704 - loss: 0.1266 - val_acc: 0.9128 - val_loss: 0.2207 - learning_rate: 0.0010\n",
      "Epoch 47/200\n",
      "\u001b[1m107/110\u001b[0m \u001b[32m━━━━━━━━━━━━━━━━━━━\u001b[0m\u001b[37m━\u001b[0m \u001b[1m0s\u001b[0m 6ms/step - acc: 0.9557 - loss: 0.1105\n",
      "Epoch 47: val_acc did not improve from 1.00000\n",
      "\u001b[1m110/110\u001b[0m \u001b[32m━━━━━━━━━━━━━━━━━━━━\u001b[0m\u001b[37m\u001b[0m \u001b[1m1s\u001b[0m 7ms/step - acc: 0.9563 - loss: 0.1097 - val_acc: 0.9897 - val_loss: 0.0721 - learning_rate: 0.0010\n",
      "Epoch 48/200\n",
      "\u001b[1m102/110\u001b[0m \u001b[32m━━━━━━━━━━━━━━━━━━\u001b[0m\u001b[37m━━\u001b[0m \u001b[1m0s\u001b[0m 6ms/step - acc: 0.9872 - loss: 0.0651\n",
      "Epoch 48: val_acc did not improve from 1.00000\n",
      "\u001b[1m110/110\u001b[0m \u001b[32m━━━━━━━━━━━━━━━━━━━━\u001b[0m\u001b[37m\u001b[0m \u001b[1m1s\u001b[0m 7ms/step - acc: 0.9866 - loss: 0.0669 - val_acc: 0.9462 - val_loss: 0.1882 - learning_rate: 0.0010\n",
      "Epoch 49/200\n",
      "\u001b[1m103/110\u001b[0m \u001b[32m━━━━━━━━━━━━━━━━━━\u001b[0m\u001b[37m━━\u001b[0m \u001b[1m0s\u001b[0m 6ms/step - acc: 0.8658 - loss: 0.3810\n",
      "Epoch 49: val_acc did not improve from 1.00000\n",
      "\u001b[1m110/110\u001b[0m \u001b[32m━━━━━━━━━━━━━━━━━━━━\u001b[0m\u001b[37m\u001b[0m \u001b[1m1s\u001b[0m 7ms/step - acc: 0.8682 - loss: 0.3760 - val_acc: 0.9436 - val_loss: 0.2352 - learning_rate: 0.0010\n",
      "Epoch 50/200\n",
      "\u001b[1m106/110\u001b[0m \u001b[32m━━━━━━━━━━━━━━━━━━━\u001b[0m\u001b[37m━\u001b[0m \u001b[1m0s\u001b[0m 6ms/step - acc: 0.9626 - loss: 0.1711\n",
      "Epoch 50: val_acc did not improve from 1.00000\n",
      "\u001b[1m110/110\u001b[0m \u001b[32m━━━━━━━━━━━━━━━━━━━━\u001b[0m\u001b[37m\u001b[0m \u001b[1m1s\u001b[0m 7ms/step - acc: 0.9627 - loss: 0.1702 - val_acc: 0.9667 - val_loss: 0.1516 - learning_rate: 0.0010\n",
      "Epoch 51/200\n",
      "\u001b[1m105/110\u001b[0m \u001b[32m━━━━━━━━━━━━━━━━━━━\u001b[0m\u001b[37m━\u001b[0m \u001b[1m0s\u001b[0m 6ms/step - acc: 0.9780 - loss: 0.1183\n",
      "Epoch 51: val_acc did not improve from 1.00000\n",
      "\u001b[1m110/110\u001b[0m \u001b[32m━━━━━━━━━━━━━━━━━━━━\u001b[0m\u001b[37m\u001b[0m \u001b[1m1s\u001b[0m 6ms/step - acc: 0.9779 - loss: 0.1187 - val_acc: 0.9718 - val_loss: 0.1397 - learning_rate: 0.0010\n",
      "Epoch 52/200\n",
      "\u001b[1m109/110\u001b[0m \u001b[32m━━━━━━━━━━━━━━━━━━━\u001b[0m\u001b[37m━\u001b[0m \u001b[1m0s\u001b[0m 6ms/step - acc: 0.9809 - loss: 0.0997\n",
      "Epoch 52: val_acc did not improve from 1.00000\n",
      "\u001b[1m110/110\u001b[0m \u001b[32m━━━━━━━━━━━━━━━━━━━━\u001b[0m\u001b[37m\u001b[0m \u001b[1m1s\u001b[0m 7ms/step - acc: 0.9810 - loss: 0.0995 - val_acc: 0.9769 - val_loss: 0.1021 - learning_rate: 0.0010\n",
      "Epoch 53/200\n",
      "\u001b[1m101/110\u001b[0m \u001b[32m━━━━━━━━━━━━━━━━━━\u001b[0m\u001b[37m━━\u001b[0m \u001b[1m0s\u001b[0m 6ms/step - acc: 0.9877 - loss: 0.0788\n",
      "Epoch 53: val_acc did not improve from 1.00000\n",
      "\u001b[1m110/110\u001b[0m \u001b[32m━━━━━━━━━━━━━━━━━━━━\u001b[0m\u001b[37m\u001b[0m \u001b[1m1s\u001b[0m 7ms/step - acc: 0.9876 - loss: 0.0788 - val_acc: 0.9769 - val_loss: 0.1018 - learning_rate: 0.0010\n",
      "Epoch 54/200\n",
      "\u001b[1m101/110\u001b[0m \u001b[32m━━━━━━━━━━━━━━━━━━\u001b[0m\u001b[37m━━\u001b[0m \u001b[1m0s\u001b[0m 6ms/step - acc: 0.9883 - loss: 0.0759\n",
      "Epoch 54: val_acc did not improve from 1.00000\n",
      "\u001b[1m110/110\u001b[0m \u001b[32m━━━━━━━━━━━━━━━━━━━━\u001b[0m\u001b[37m\u001b[0m \u001b[1m1s\u001b[0m 6ms/step - acc: 0.9885 - loss: 0.0751 - val_acc: 0.9744 - val_loss: 0.0926 - learning_rate: 0.0010\n",
      "Epoch 55/200\n",
      "\u001b[1m108/110\u001b[0m \u001b[32m━━━━━━━━━━━━━━━━━━━\u001b[0m\u001b[37m━\u001b[0m \u001b[1m0s\u001b[0m 6ms/step - acc: 0.9930 - loss: 0.0655\n",
      "Epoch 55: val_acc did not improve from 1.00000\n",
      "\u001b[1m110/110\u001b[0m \u001b[32m━━━━━━━━━━━━━━━━━━━━\u001b[0m\u001b[37m\u001b[0m \u001b[1m1s\u001b[0m 7ms/step - acc: 0.9930 - loss: 0.0654 - val_acc: 0.9846 - val_loss: 0.0694 - learning_rate: 0.0010\n",
      "Epoch 56/200\n",
      "\u001b[1m101/110\u001b[0m \u001b[32m━━━━━━━━━━━━━━━━━━\u001b[0m\u001b[37m━━\u001b[0m \u001b[1m0s\u001b[0m 6ms/step - acc: 0.9914 - loss: 0.0569\n",
      "Epoch 56: val_acc did not improve from 1.00000\n",
      "\u001b[1m110/110\u001b[0m \u001b[32m━━━━━━━━━━━━━━━━━━━━\u001b[0m\u001b[37m\u001b[0m \u001b[1m1s\u001b[0m 7ms/step - acc: 0.9915 - loss: 0.0565 - val_acc: 0.9897 - val_loss: 0.0585 - learning_rate: 0.0010\n",
      "Epoch 57/200\n",
      "\u001b[1m107/110\u001b[0m \u001b[32m━━━━━━━━━━━━━━━━━━━\u001b[0m\u001b[37m━\u001b[0m \u001b[1m0s\u001b[0m 6ms/step - acc: 0.9923 - loss: 0.0489\n",
      "Epoch 57: val_acc did not improve from 1.00000\n",
      "\u001b[1m110/110\u001b[0m \u001b[32m━━━━━━━━━━━━━━━━━━━━\u001b[0m\u001b[37m\u001b[0m \u001b[1m1s\u001b[0m 7ms/step - acc: 0.9924 - loss: 0.0488 - val_acc: 0.9846 - val_loss: 0.0552 - learning_rate: 0.0010\n",
      "Epoch 58/200\n",
      "\u001b[1m105/110\u001b[0m \u001b[32m━━━━━━━━━━━━━━━━━━━\u001b[0m\u001b[37m━\u001b[0m \u001b[1m0s\u001b[0m 6ms/step - acc: 0.9860 - loss: 0.0683\n",
      "Epoch 58: val_acc did not improve from 1.00000\n",
      "\u001b[1m110/110\u001b[0m \u001b[32m━━━━━━━━━━━━━━━━━━━━\u001b[0m\u001b[37m\u001b[0m \u001b[1m1s\u001b[0m 6ms/step - acc: 0.9861 - loss: 0.0682 - val_acc: 0.9795 - val_loss: 0.0815 - learning_rate: 0.0010\n",
      "Epoch 59/200\n",
      "\u001b[1m107/110\u001b[0m \u001b[32m━━━━━━━━━━━━━━━━━━━\u001b[0m\u001b[37m━\u001b[0m \u001b[1m0s\u001b[0m 6ms/step - acc: 0.9926 - loss: 0.0516\n",
      "Epoch 59: val_acc did not improve from 1.00000\n",
      "\u001b[1m110/110\u001b[0m \u001b[32m━━━━━━━━━━━━━━━━━━━━\u001b[0m\u001b[37m\u001b[0m \u001b[1m1s\u001b[0m 7ms/step - acc: 0.9925 - loss: 0.0515 - val_acc: 0.9923 - val_loss: 0.0565 - learning_rate: 0.0010\n",
      "Epoch 60/200\n",
      "\u001b[1m109/110\u001b[0m \u001b[32m━━━━━━━━━━━━━━━━━━━\u001b[0m\u001b[37m━\u001b[0m \u001b[1m0s\u001b[0m 6ms/step - acc: 0.9907 - loss: 0.0428\n",
      "Epoch 60: val_acc did not improve from 1.00000\n",
      "\u001b[1m110/110\u001b[0m \u001b[32m━━━━━━━━━━━━━━━━━━━━\u001b[0m\u001b[37m\u001b[0m \u001b[1m1s\u001b[0m 7ms/step - acc: 0.9908 - loss: 0.0426 - val_acc: 0.9923 - val_loss: 0.0394 - learning_rate: 0.0010\n",
      "Epoch 61/200\n",
      "\u001b[1m102/110\u001b[0m \u001b[32m━━━━━━━━━━━━━━━━━━\u001b[0m\u001b[37m━━\u001b[0m \u001b[1m0s\u001b[0m 6ms/step - acc: 0.9928 - loss: 0.0384\n",
      "Epoch 61: val_acc did not improve from 1.00000\n",
      "\u001b[1m110/110\u001b[0m \u001b[32m━━━━━━━━━━━━━━━━━━━━\u001b[0m\u001b[37m\u001b[0m \u001b[1m1s\u001b[0m 7ms/step - acc: 0.9929 - loss: 0.0381 - val_acc: 0.9872 - val_loss: 0.0435 - learning_rate: 0.0010\n",
      "Epoch 62/200\n",
      "\u001b[1m105/110\u001b[0m \u001b[32m━━━━━━━━━━━━━━━━━━━\u001b[0m\u001b[37m━\u001b[0m \u001b[1m0s\u001b[0m 6ms/step - acc: 0.9946 - loss: 0.0324\n",
      "Epoch 62: val_acc did not improve from 1.00000\n",
      "\u001b[1m110/110\u001b[0m \u001b[32m━━━━━━━━━━━━━━━━━━━━\u001b[0m\u001b[37m\u001b[0m \u001b[1m1s\u001b[0m 7ms/step - acc: 0.9946 - loss: 0.0323 - val_acc: 0.9872 - val_loss: 0.0419 - learning_rate: 0.0010\n",
      "Epoch 63/200\n",
      "\u001b[1m104/110\u001b[0m \u001b[32m━━━━━━━━━━━━━━━━━━\u001b[0m\u001b[37m━━\u001b[0m \u001b[1m0s\u001b[0m 6ms/step - acc: 0.9958 - loss: 0.0288\n",
      "Epoch 63: val_acc did not improve from 1.00000\n",
      "\u001b[1m110/110\u001b[0m \u001b[32m━━━━━━━━━━━━━━━━━━━━\u001b[0m\u001b[37m\u001b[0m \u001b[1m1s\u001b[0m 7ms/step - acc: 0.9958 - loss: 0.0288 - val_acc: 0.9923 - val_loss: 0.0320 - learning_rate: 0.0010\n",
      "Epoch 64/200\n",
      "\u001b[1m107/110\u001b[0m \u001b[32m━━━━━━━━━━━━━━━━━━━\u001b[0m\u001b[37m━\u001b[0m \u001b[1m0s\u001b[0m 6ms/step - acc: 0.9961 - loss: 0.0248\n",
      "Epoch 64: val_acc did not improve from 1.00000\n",
      "\u001b[1m110/110\u001b[0m \u001b[32m━━━━━━━━━━━━━━━━━━━━\u001b[0m\u001b[37m\u001b[0m \u001b[1m1s\u001b[0m 7ms/step - acc: 0.9961 - loss: 0.0249 - val_acc: 0.9974 - val_loss: 0.0249 - learning_rate: 0.0010\n",
      "Epoch 65/200\n",
      "\u001b[1m100/110\u001b[0m \u001b[32m━━━━━━━━━━━━━━━━━━\u001b[0m\u001b[37m━━\u001b[0m \u001b[1m0s\u001b[0m 6ms/step - acc: 0.9957 - loss: 0.0240\n",
      "Epoch 65: val_acc did not improve from 1.00000\n",
      "\u001b[1m110/110\u001b[0m \u001b[32m━━━━━━━━━━━━━━━━━━━━\u001b[0m\u001b[37m\u001b[0m \u001b[1m1s\u001b[0m 7ms/step - acc: 0.9957 - loss: 0.0239 - val_acc: 0.9949 - val_loss: 0.0255 - learning_rate: 0.0010\n",
      "Epoch 66/200\n",
      "\u001b[1m107/110\u001b[0m \u001b[32m━━━━━━━━━━━━━━━━━━━\u001b[0m\u001b[37m━\u001b[0m \u001b[1m0s\u001b[0m 6ms/step - acc: 0.9953 - loss: 0.0211\n",
      "Epoch 66: val_acc did not improve from 1.00000\n",
      "\u001b[1m110/110\u001b[0m \u001b[32m━━━━━━━━━━━━━━━━━━━━\u001b[0m\u001b[37m\u001b[0m \u001b[1m1s\u001b[0m 7ms/step - acc: 0.9954 - loss: 0.0210 - val_acc: 0.9974 - val_loss: 0.0196 - learning_rate: 0.0010\n",
      "Epoch 67/200\n",
      "\u001b[1m109/110\u001b[0m \u001b[32m━━━━━━━━━━━━━━━━━━━\u001b[0m\u001b[37m━\u001b[0m \u001b[1m0s\u001b[0m 6ms/step - acc: 0.9993 - loss: 0.0154\n",
      "Epoch 67: val_acc did not improve from 1.00000\n",
      "\u001b[1m110/110\u001b[0m \u001b[32m━━━━━━━━━━━━━━━━━━━━\u001b[0m\u001b[37m\u001b[0m \u001b[1m1s\u001b[0m 7ms/step - acc: 0.9993 - loss: 0.0154 - val_acc: 1.0000 - val_loss: 0.0159 - learning_rate: 0.0010\n",
      "Epoch 68/200\n",
      "\u001b[1m101/110\u001b[0m \u001b[32m━━━━━━━━━━━━━━━━━━\u001b[0m\u001b[37m━━\u001b[0m \u001b[1m0s\u001b[0m 6ms/step - acc: 0.9989 - loss: 0.0138\n",
      "Epoch 68: val_acc did not improve from 1.00000\n",
      "\u001b[1m110/110\u001b[0m \u001b[32m━━━━━━━━━━━━━━━━━━━━\u001b[0m\u001b[37m\u001b[0m \u001b[1m1s\u001b[0m 7ms/step - acc: 0.9990 - loss: 0.0138 - val_acc: 1.0000 - val_loss: 0.0175 - learning_rate: 0.0010\n",
      "Epoch 69/200\n",
      "\u001b[1m110/110\u001b[0m \u001b[32m━━━━━━━━━━━━━━━━━━━━\u001b[0m\u001b[37m\u001b[0m \u001b[1m0s\u001b[0m 6ms/step - acc: 0.9995 - loss: 0.0120\n",
      "Epoch 69: val_acc did not improve from 1.00000\n",
      "\u001b[1m110/110\u001b[0m \u001b[32m━━━━━━━━━━━━━━━━━━━━\u001b[0m\u001b[37m\u001b[0m \u001b[1m1s\u001b[0m 7ms/step - acc: 0.9995 - loss: 0.0120 - val_acc: 1.0000 - val_loss: 0.0137 - learning_rate: 0.0010\n",
      "Epoch 70/200\n",
      "\u001b[1m103/110\u001b[0m \u001b[32m━━━━━━━━━━━━━━━━━━\u001b[0m\u001b[37m━━\u001b[0m \u001b[1m0s\u001b[0m 6ms/step - acc: 0.9992 - loss: 0.0118\n",
      "Epoch 70: val_acc did not improve from 1.00000\n",
      "\n",
      "Epoch 70: ReduceLROnPlateau reducing learning rate to 0.0005000000237487257.\n",
      "\u001b[1m110/110\u001b[0m \u001b[32m━━━━━━━━━━━━━━━━━━━━\u001b[0m\u001b[37m\u001b[0m \u001b[1m1s\u001b[0m 7ms/step - acc: 0.9992 - loss: 0.0118 - val_acc: 1.0000 - val_loss: 0.0125 - learning_rate: 0.0010\n",
      "Epoch 71/200\n",
      "\u001b[1m101/110\u001b[0m \u001b[32m━━━━━━━━━━━━━━━━━━\u001b[0m\u001b[37m━━\u001b[0m \u001b[1m0s\u001b[0m 6ms/step - acc: 0.9999 - loss: 0.0096\n",
      "Epoch 71: val_acc did not improve from 1.00000\n",
      "\u001b[1m110/110\u001b[0m \u001b[32m━━━━━━━━━━━━━━━━━━━━\u001b[0m\u001b[37m\u001b[0m \u001b[1m1s\u001b[0m 7ms/step - acc: 0.9998 - loss: 0.0097 - val_acc: 1.0000 - val_loss: 0.0134 - learning_rate: 5.0000e-04\n",
      "Epoch 72/200\n",
      "\u001b[1m104/110\u001b[0m \u001b[32m━━━━━━━━━━━━━━━━━━\u001b[0m\u001b[37m━━\u001b[0m \u001b[1m0s\u001b[0m 6ms/step - acc: 0.9998 - loss: 0.0101\n",
      "Epoch 72: val_acc did not improve from 1.00000\n",
      "\u001b[1m110/110\u001b[0m \u001b[32m━━━━━━━━━━━━━━━━━━━━\u001b[0m\u001b[37m\u001b[0m \u001b[1m1s\u001b[0m 7ms/step - acc: 0.9997 - loss: 0.0101 - val_acc: 1.0000 - val_loss: 0.0123 - learning_rate: 5.0000e-04\n",
      "Epoch 73/200\n",
      "\u001b[1m104/110\u001b[0m \u001b[32m━━━━━━━━━━━━━━━━━━\u001b[0m\u001b[37m━━\u001b[0m \u001b[1m0s\u001b[0m 6ms/step - acc: 0.9998 - loss: 0.0088\n",
      "Epoch 73: val_acc did not improve from 1.00000\n",
      "\u001b[1m110/110\u001b[0m \u001b[32m━━━━━━━━━━━━━━━━━━━━\u001b[0m\u001b[37m\u001b[0m \u001b[1m1s\u001b[0m 7ms/step - acc: 0.9998 - loss: 0.0088 - val_acc: 1.0000 - val_loss: 0.0122 - learning_rate: 5.0000e-04\n",
      "Epoch 74/200\n",
      "\u001b[1m105/110\u001b[0m \u001b[32m━━━━━━━━━━━━━━━━━━━\u001b[0m\u001b[37m━\u001b[0m \u001b[1m0s\u001b[0m 6ms/step - acc: 0.9993 - loss: 0.0096\n",
      "Epoch 74: val_acc did not improve from 1.00000\n",
      "\u001b[1m110/110\u001b[0m \u001b[32m━━━━━━━━━━━━━━━━━━━━\u001b[0m\u001b[37m\u001b[0m \u001b[1m1s\u001b[0m 7ms/step - acc: 0.9993 - loss: 0.0096 - val_acc: 1.0000 - val_loss: 0.0111 - learning_rate: 5.0000e-04\n",
      "Epoch 75/200\n",
      "\u001b[1m103/110\u001b[0m \u001b[32m━━━━━━━━━━━━━━━━━━\u001b[0m\u001b[37m━━\u001b[0m \u001b[1m0s\u001b[0m 6ms/step - acc: 0.9993 - loss: 0.0090\n",
      "Epoch 75: val_acc did not improve from 1.00000\n",
      "\u001b[1m110/110\u001b[0m \u001b[32m━━━━━━━━━━━━━━━━━━━━\u001b[0m\u001b[37m\u001b[0m \u001b[1m1s\u001b[0m 7ms/step - acc: 0.9993 - loss: 0.0090 - val_acc: 1.0000 - val_loss: 0.0105 - learning_rate: 5.0000e-04\n",
      "Epoch 76/200\n",
      "\u001b[1m109/110\u001b[0m \u001b[32m━━━━━━━━━━━━━━━━━━━\u001b[0m\u001b[37m━\u001b[0m \u001b[1m0s\u001b[0m 6ms/step - acc: 0.9994 - loss: 0.0080\n",
      "Epoch 76: val_acc did not improve from 1.00000\n",
      "\u001b[1m110/110\u001b[0m \u001b[32m━━━━━━━━━━━━━━━━━━━━\u001b[0m\u001b[37m\u001b[0m \u001b[1m1s\u001b[0m 6ms/step - acc: 0.9994 - loss: 0.0080 - val_acc: 1.0000 - val_loss: 0.0099 - learning_rate: 5.0000e-04\n",
      "Epoch 77/200\n",
      "\u001b[1m108/110\u001b[0m \u001b[32m━━━━━━━━━━━━━━━━━━━\u001b[0m\u001b[37m━\u001b[0m \u001b[1m0s\u001b[0m 6ms/step - acc: 0.9992 - loss: 0.0079\n",
      "Epoch 77: val_acc did not improve from 1.00000\n",
      "\u001b[1m110/110\u001b[0m \u001b[32m━━━━━━━━━━━━━━━━━━━━\u001b[0m\u001b[37m\u001b[0m \u001b[1m1s\u001b[0m 7ms/step - acc: 0.9992 - loss: 0.0079 - val_acc: 1.0000 - val_loss: 0.0091 - learning_rate: 5.0000e-04\n",
      "Epoch 78/200\n",
      "\u001b[1m108/110\u001b[0m \u001b[32m━━━━━━━━━━━━━━━━━━━\u001b[0m\u001b[37m━\u001b[0m \u001b[1m0s\u001b[0m 6ms/step - acc: 0.9990 - loss: 0.0076\n",
      "Epoch 78: val_acc did not improve from 1.00000\n",
      "\u001b[1m110/110\u001b[0m \u001b[32m━━━━━━━━━━━━━━━━━━━━\u001b[0m\u001b[37m\u001b[0m \u001b[1m1s\u001b[0m 6ms/step - acc: 0.9990 - loss: 0.0076 - val_acc: 1.0000 - val_loss: 0.0090 - learning_rate: 5.0000e-04\n",
      "Epoch 79/200\n",
      "\u001b[1m102/110\u001b[0m \u001b[32m━━━━━━━━━━━━━━━━━━\u001b[0m\u001b[37m━━\u001b[0m \u001b[1m0s\u001b[0m 6ms/step - acc: 0.9997 - loss: 0.0058\n",
      "Epoch 79: val_acc did not improve from 1.00000\n",
      "\u001b[1m110/110\u001b[0m \u001b[32m━━━━━━━━━━━━━━━━━━━━\u001b[0m\u001b[37m\u001b[0m \u001b[1m1s\u001b[0m 6ms/step - acc: 0.9996 - loss: 0.0059 - val_acc: 1.0000 - val_loss: 0.0082 - learning_rate: 5.0000e-04\n",
      "Epoch 80/200\n",
      "\u001b[1m104/110\u001b[0m \u001b[32m━━━━━━━━━━━━━━━━━━\u001b[0m\u001b[37m━━\u001b[0m \u001b[1m0s\u001b[0m 6ms/step - acc: 0.9993 - loss: 0.0070\n",
      "Epoch 80: val_acc did not improve from 1.00000\n",
      "\u001b[1m110/110\u001b[0m \u001b[32m━━━━━━━━━━━━━━━━━━━━\u001b[0m\u001b[37m\u001b[0m \u001b[1m1s\u001b[0m 7ms/step - acc: 0.9993 - loss: 0.0069 - val_acc: 1.0000 - val_loss: 0.0071 - learning_rate: 5.0000e-04\n",
      "Epoch 81/200\n",
      "\u001b[1m102/110\u001b[0m \u001b[32m━━━━━━━━━━━━━━━━━━\u001b[0m\u001b[37m━━\u001b[0m \u001b[1m0s\u001b[0m 6ms/step - acc: 0.9999 - loss: 0.0044\n",
      "Epoch 81: val_acc did not improve from 1.00000\n",
      "\u001b[1m110/110\u001b[0m \u001b[32m━━━━━━━━━━━━━━━━━━━━\u001b[0m\u001b[37m\u001b[0m \u001b[1m1s\u001b[0m 6ms/step - acc: 0.9999 - loss: 0.0045 - val_acc: 1.0000 - val_loss: 0.0081 - learning_rate: 5.0000e-04\n",
      "Epoch 82/200\n",
      "\u001b[1m106/110\u001b[0m \u001b[32m━━━━━━━━━━━━━━━━━━━\u001b[0m\u001b[37m━\u001b[0m \u001b[1m0s\u001b[0m 6ms/step - acc: 0.9956 - loss: 0.0901\n",
      "Epoch 82: val_acc did not improve from 1.00000\n",
      "\u001b[1m110/110\u001b[0m \u001b[32m━━━━━━━━━━━━━━━━━━━━\u001b[0m\u001b[37m\u001b[0m \u001b[1m1s\u001b[0m 6ms/step - acc: 0.9952 - loss: 0.0963 - val_acc: 0.9897 - val_loss: 0.0489 - learning_rate: 5.0000e-04\n",
      "Epoch 83/200\n",
      "\u001b[1m107/110\u001b[0m \u001b[32m━━━━━━━━━━━━━━━━━━━\u001b[0m\u001b[37m━\u001b[0m \u001b[1m0s\u001b[0m 6ms/step - acc: 0.9952 - loss: 0.0318\n",
      "Epoch 83: val_acc did not improve from 1.00000\n",
      "\u001b[1m110/110\u001b[0m \u001b[32m━━━━━━━━━━━━━━━━━━━━\u001b[0m\u001b[37m\u001b[0m \u001b[1m1s\u001b[0m 7ms/step - acc: 0.9952 - loss: 0.0317 - val_acc: 0.9923 - val_loss: 0.0312 - learning_rate: 5.0000e-04\n",
      "Epoch 84/200\n",
      "\u001b[1m105/110\u001b[0m \u001b[32m━━━━━━━━━━━━━━━━━━━\u001b[0m\u001b[37m━\u001b[0m \u001b[1m0s\u001b[0m 6ms/step - acc: 0.9936 - loss: 0.0249\n",
      "Epoch 84: val_acc did not improve from 1.00000\n",
      "\u001b[1m110/110\u001b[0m \u001b[32m━━━━━━━━━━━━━━━━━━━━\u001b[0m\u001b[37m\u001b[0m \u001b[1m1s\u001b[0m 7ms/step - acc: 0.9937 - loss: 0.0248 - val_acc: 0.9974 - val_loss: 0.0342 - learning_rate: 5.0000e-04\n",
      "Epoch 85/200\n",
      "\u001b[1m105/110\u001b[0m \u001b[32m━━━━━━━━━━━━━━━━━━━\u001b[0m\u001b[37m━\u001b[0m \u001b[1m0s\u001b[0m 6ms/step - acc: 0.9970 - loss: 0.0180\n",
      "Epoch 85: val_acc did not improve from 1.00000\n",
      "\u001b[1m110/110\u001b[0m \u001b[32m━━━━━━━━━━━━━━━━━━━━\u001b[0m\u001b[37m\u001b[0m \u001b[1m1s\u001b[0m 7ms/step - acc: 0.9971 - loss: 0.0180 - val_acc: 0.9974 - val_loss: 0.0213 - learning_rate: 5.0000e-04\n",
      "Epoch 86/200\n",
      "\u001b[1m103/110\u001b[0m \u001b[32m━━━━━━━━━━━━━━━━━━\u001b[0m\u001b[37m━━\u001b[0m \u001b[1m0s\u001b[0m 6ms/step - acc: 0.9973 - loss: 0.0158\n",
      "Epoch 86: val_acc did not improve from 1.00000\n",
      "\u001b[1m110/110\u001b[0m \u001b[32m━━━━━━━━━━━━━━━━━━━━\u001b[0m\u001b[37m\u001b[0m \u001b[1m1s\u001b[0m 6ms/step - acc: 0.9973 - loss: 0.0157 - val_acc: 1.0000 - val_loss: 0.0119 - learning_rate: 5.0000e-04\n",
      "Epoch 87/200\n",
      "\u001b[1m102/110\u001b[0m \u001b[32m━━━━━━━━━━━━━━━━━━\u001b[0m\u001b[37m━━\u001b[0m \u001b[1m0s\u001b[0m 6ms/step - acc: 0.9981 - loss: 0.0121\n",
      "Epoch 87: val_acc did not improve from 1.00000\n",
      "\u001b[1m110/110\u001b[0m \u001b[32m━━━━━━━━━━━━━━━━━━━━\u001b[0m\u001b[37m\u001b[0m \u001b[1m1s\u001b[0m 7ms/step - acc: 0.9981 - loss: 0.0121 - val_acc: 0.9974 - val_loss: 0.0249 - learning_rate: 5.0000e-04\n",
      "Epoch 88/200\n",
      "\u001b[1m109/110\u001b[0m \u001b[32m━━━━━━━━━━━━━━━━━━━\u001b[0m\u001b[37m━\u001b[0m \u001b[1m0s\u001b[0m 6ms/step - acc: 0.9970 - loss: 0.0162\n",
      "Epoch 88: val_acc did not improve from 1.00000\n",
      "\u001b[1m110/110\u001b[0m \u001b[32m━━━━━━━━━━━━━━━━━━━━\u001b[0m\u001b[37m\u001b[0m \u001b[1m1s\u001b[0m 7ms/step - acc: 0.9970 - loss: 0.0161 - val_acc: 0.9974 - val_loss: 0.0154 - learning_rate: 5.0000e-04\n",
      "Epoch 89/200\n",
      "\u001b[1m108/110\u001b[0m \u001b[32m━━━━━━━━━━━━━━━━━━━\u001b[0m\u001b[37m━\u001b[0m \u001b[1m0s\u001b[0m 6ms/step - acc: 0.9968 - loss: 0.0142\n",
      "Epoch 89: val_acc did not improve from 1.00000\n",
      "\u001b[1m110/110\u001b[0m \u001b[32m━━━━━━━━━━━━━━━━━━━━\u001b[0m\u001b[37m\u001b[0m \u001b[1m1s\u001b[0m 6ms/step - acc: 0.9967 - loss: 0.0144 - val_acc: 0.9590 - val_loss: 0.1043 - learning_rate: 5.0000e-04\n",
      "Epoch 90/200\n",
      "\u001b[1m108/110\u001b[0m \u001b[32m━━━━━━━━━━━━━━━━━━━\u001b[0m\u001b[37m━\u001b[0m \u001b[1m0s\u001b[0m 6ms/step - acc: 0.9852 - loss: 0.0457\n",
      "Epoch 90: val_acc did not improve from 1.00000\n",
      "\u001b[1m110/110\u001b[0m \u001b[32m━━━━━━━━━━━━━━━━━━━━\u001b[0m\u001b[37m\u001b[0m \u001b[1m1s\u001b[0m 7ms/step - acc: 0.9853 - loss: 0.0454 - val_acc: 0.9923 - val_loss: 0.0337 - learning_rate: 5.0000e-04\n",
      "Epoch 91/200\n",
      "\u001b[1m109/110\u001b[0m \u001b[32m━━━━━━━━━━━━━━━━━━━\u001b[0m\u001b[37m━\u001b[0m \u001b[1m0s\u001b[0m 6ms/step - acc: 0.9959 - loss: 0.0205\n",
      "Epoch 91: val_acc did not improve from 1.00000\n",
      "\u001b[1m110/110\u001b[0m \u001b[32m━━━━━━━━━━━━━━━━━━━━\u001b[0m\u001b[37m\u001b[0m \u001b[1m1s\u001b[0m 7ms/step - acc: 0.9958 - loss: 0.0205 - val_acc: 0.9949 - val_loss: 0.0221 - learning_rate: 5.0000e-04\n",
      "Epoch 92/200\n",
      "\u001b[1m106/110\u001b[0m \u001b[32m━━━━━━━━━━━━━━━━━━━\u001b[0m\u001b[37m━\u001b[0m \u001b[1m0s\u001b[0m 6ms/step - acc: 0.9980 - loss: 0.0159\n",
      "Epoch 92: val_acc did not improve from 1.00000\n",
      "\u001b[1m110/110\u001b[0m \u001b[32m━━━━━━━━━━━━━━━━━━━━\u001b[0m\u001b[37m\u001b[0m \u001b[1m1s\u001b[0m 6ms/step - acc: 0.9980 - loss: 0.0158 - val_acc: 0.9949 - val_loss: 0.0173 - learning_rate: 5.0000e-04\n",
      "Epoch 93/200\n",
      "\u001b[1m108/110\u001b[0m \u001b[32m━━━━━━━━━━━━━━━━━━━\u001b[0m\u001b[37m━\u001b[0m \u001b[1m0s\u001b[0m 6ms/step - acc: 0.9991 - loss: 0.0125\n",
      "Epoch 93: val_acc did not improve from 1.00000\n",
      "\u001b[1m110/110\u001b[0m \u001b[32m━━━━━━━━━━━━━━━━━━━━\u001b[0m\u001b[37m\u001b[0m \u001b[1m1s\u001b[0m 6ms/step - acc: 0.9991 - loss: 0.0125 - val_acc: 0.9949 - val_loss: 0.0134 - learning_rate: 5.0000e-04\n",
      "Epoch 94/200\n",
      "\u001b[1m108/110\u001b[0m \u001b[32m━━━━━━━━━━━━━━━━━━━\u001b[0m\u001b[37m━\u001b[0m \u001b[1m0s\u001b[0m 6ms/step - acc: 0.9990 - loss: 0.0096\n",
      "Epoch 94: val_acc did not improve from 1.00000\n",
      "\u001b[1m110/110\u001b[0m \u001b[32m━━━━━━━━━━━━━━━━━━━━\u001b[0m\u001b[37m\u001b[0m \u001b[1m1s\u001b[0m 7ms/step - acc: 0.9990 - loss: 0.0096 - val_acc: 0.9949 - val_loss: 0.0127 - learning_rate: 5.0000e-04\n",
      "Epoch 95/200\n",
      "\u001b[1m102/110\u001b[0m \u001b[32m━━━━━━━━━━━━━━━━━━\u001b[0m\u001b[37m━━\u001b[0m \u001b[1m0s\u001b[0m 6ms/step - acc: 0.9996 - loss: 0.0080\n",
      "Epoch 95: val_acc did not improve from 1.00000\n",
      "\u001b[1m110/110\u001b[0m \u001b[32m━━━━━━━━━━━━━━━━━━━━\u001b[0m\u001b[37m\u001b[0m \u001b[1m1s\u001b[0m 7ms/step - acc: 0.9995 - loss: 0.0080 - val_acc: 0.9949 - val_loss: 0.0156 - learning_rate: 5.0000e-04\n",
      "Epoch 96/200\n",
      "\u001b[1m103/110\u001b[0m \u001b[32m━━━━━━━━━━━━━━━━━━\u001b[0m\u001b[37m━━\u001b[0m \u001b[1m0s\u001b[0m 6ms/step - acc: 0.9995 - loss: 0.0079\n",
      "Epoch 96: val_acc did not improve from 1.00000\n",
      "\u001b[1m110/110\u001b[0m \u001b[32m━━━━━━━━━━━━━━━━━━━━\u001b[0m\u001b[37m\u001b[0m \u001b[1m1s\u001b[0m 7ms/step - acc: 0.9994 - loss: 0.0079 - val_acc: 0.9949 - val_loss: 0.0107 - learning_rate: 5.0000e-04\n",
      "Epoch 97/200\n",
      "\u001b[1m107/110\u001b[0m \u001b[32m━━━━━━━━━━━━━━━━━━━\u001b[0m\u001b[37m━\u001b[0m \u001b[1m0s\u001b[0m 6ms/step - acc: 0.9991 - loss: 0.0083\n",
      "Epoch 97: val_acc did not improve from 1.00000\n",
      "\u001b[1m110/110\u001b[0m \u001b[32m━━━━━━━━━━━━━━━━━━━━\u001b[0m\u001b[37m\u001b[0m \u001b[1m1s\u001b[0m 7ms/step - acc: 0.9991 - loss: 0.0083 - val_acc: 0.9949 - val_loss: 0.0121 - learning_rate: 5.0000e-04\n",
      "Epoch 98/200\n",
      "\u001b[1m109/110\u001b[0m \u001b[32m━━━━━━━━━━━━━━━━━━━\u001b[0m\u001b[37m━\u001b[0m \u001b[1m0s\u001b[0m 6ms/step - acc: 0.9994 - loss: 0.0069\n",
      "Epoch 98: val_acc did not improve from 1.00000\n",
      "\u001b[1m110/110\u001b[0m \u001b[32m━━━━━━━━━━━━━━━━━━━━\u001b[0m\u001b[37m\u001b[0m \u001b[1m1s\u001b[0m 7ms/step - acc: 0.9994 - loss: 0.0069 - val_acc: 0.9949 - val_loss: 0.0115 - learning_rate: 5.0000e-04\n",
      "Epoch 99/200\n",
      "\u001b[1m107/110\u001b[0m \u001b[32m━━━━━━━━━━━━━━━━━━━\u001b[0m\u001b[37m━\u001b[0m \u001b[1m0s\u001b[0m 6ms/step - acc: 0.9997 - loss: 0.0059\n",
      "Epoch 99: val_acc did not improve from 1.00000\n",
      "\u001b[1m110/110\u001b[0m \u001b[32m━━━━━━━━━━━━━━━━━━━━\u001b[0m\u001b[37m\u001b[0m \u001b[1m1s\u001b[0m 7ms/step - acc: 0.9996 - loss: 0.0059 - val_acc: 0.9949 - val_loss: 0.0094 - learning_rate: 5.0000e-04\n",
      "Epoch 100/200\n",
      "\u001b[1m102/110\u001b[0m \u001b[32m━━━━━━━━━━━━━━━━━━\u001b[0m\u001b[37m━━\u001b[0m \u001b[1m0s\u001b[0m 6ms/step - acc: 0.9999 - loss: 0.0054\n",
      "Epoch 100: val_acc did not improve from 1.00000\n",
      "\u001b[1m110/110\u001b[0m \u001b[32m━━━━━━━━━━━━━━━━━━━━\u001b[0m\u001b[37m\u001b[0m \u001b[1m1s\u001b[0m 7ms/step - acc: 0.9998 - loss: 0.0055 - val_acc: 0.9949 - val_loss: 0.0104 - learning_rate: 5.0000e-04\n",
      "Epoch 101/200\n",
      "\u001b[1m106/110\u001b[0m \u001b[32m━━━━━━━━━━━━━━━━━━━\u001b[0m\u001b[37m━\u001b[0m \u001b[1m0s\u001b[0m 6ms/step - acc: 0.9993 - loss: 0.0055\n",
      "Epoch 101: val_acc did not improve from 1.00000\n",
      "\u001b[1m110/110\u001b[0m \u001b[32m━━━━━━━━━━━━━━━━━━━━\u001b[0m\u001b[37m\u001b[0m \u001b[1m1s\u001b[0m 7ms/step - acc: 0.9993 - loss: 0.0055 - val_acc: 0.9949 - val_loss: 0.0099 - learning_rate: 5.0000e-04\n",
      "Epoch 102/200\n",
      "\u001b[1m110/110\u001b[0m \u001b[32m━━━━━━━━━━━━━━━━━━━━\u001b[0m\u001b[37m\u001b[0m \u001b[1m0s\u001b[0m 6ms/step - acc: 0.9981 - loss: 0.0073\n",
      "Epoch 102: val_acc did not improve from 1.00000\n",
      "\u001b[1m110/110\u001b[0m \u001b[32m━━━━━━━━━━━━━━━━━━━━\u001b[0m\u001b[37m\u001b[0m \u001b[1m1s\u001b[0m 7ms/step - acc: 0.9981 - loss: 0.0073 - val_acc: 0.9949 - val_loss: 0.0086 - learning_rate: 5.0000e-04\n",
      "Epoch 103/200\n",
      "\u001b[1m104/110\u001b[0m \u001b[32m━━━━━━━━━━━━━━━━━━\u001b[0m\u001b[37m━━\u001b[0m \u001b[1m0s\u001b[0m 6ms/step - acc: 0.9993 - loss: 0.0048\n",
      "Epoch 103: val_acc did not improve from 1.00000\n",
      "\u001b[1m110/110\u001b[0m \u001b[32m━━━━━━━━━━━━━━━━━━━━\u001b[0m\u001b[37m\u001b[0m \u001b[1m1s\u001b[0m 7ms/step - acc: 0.9993 - loss: 0.0049 - val_acc: 0.9949 - val_loss: 0.0110 - learning_rate: 5.0000e-04\n",
      "Epoch 104/200\n",
      "\u001b[1m109/110\u001b[0m \u001b[32m━━━━━━━━━━━━━━━━━━━\u001b[0m\u001b[37m━\u001b[0m \u001b[1m0s\u001b[0m 6ms/step - acc: 0.9997 - loss: 0.0037\n",
      "Epoch 104: val_acc did not improve from 1.00000\n",
      "\u001b[1m110/110\u001b[0m \u001b[32m━━━━━━━━━━━━━━━━━━━━\u001b[0m\u001b[37m\u001b[0m \u001b[1m1s\u001b[0m 7ms/step - acc: 0.9997 - loss: 0.0037 - val_acc: 0.9974 - val_loss: 0.0075 - learning_rate: 5.0000e-04\n",
      "Epoch 105/200\n",
      "\u001b[1m103/110\u001b[0m \u001b[32m━━━━━━━━━━━━━━━━━━\u001b[0m\u001b[37m━━\u001b[0m \u001b[1m0s\u001b[0m 6ms/step - acc: 0.9990 - loss: 0.0044\n",
      "Epoch 105: val_acc did not improve from 1.00000\n",
      "\u001b[1m110/110\u001b[0m \u001b[32m━━━━━━━━━━━━━━━━━━━━\u001b[0m\u001b[37m\u001b[0m \u001b[1m1s\u001b[0m 7ms/step - acc: 0.9990 - loss: 0.0044 - val_acc: 0.9974 - val_loss: 0.0070 - learning_rate: 5.0000e-04\n",
      "Epoch 106/200\n",
      "\u001b[1m110/110\u001b[0m \u001b[32m━━━━━━━━━━━━━━━━━━━━\u001b[0m\u001b[37m\u001b[0m \u001b[1m0s\u001b[0m 6ms/step - acc: 0.9996 - loss: 0.0029\n",
      "Epoch 106: val_acc did not improve from 1.00000\n",
      "\u001b[1m110/110\u001b[0m \u001b[32m━━━━━━━━━━━━━━━━━━━━\u001b[0m\u001b[37m\u001b[0m \u001b[1m1s\u001b[0m 7ms/step - acc: 0.9996 - loss: 0.0030 - val_acc: 0.9949 - val_loss: 0.0080 - learning_rate: 5.0000e-04\n",
      "Epoch 107/200\n",
      "\u001b[1m102/110\u001b[0m \u001b[32m━━━━━━━━━━━━━━━━━━\u001b[0m\u001b[37m━━\u001b[0m \u001b[1m0s\u001b[0m 6ms/step - acc: 0.9998 - loss: 0.0035\n",
      "Epoch 107: val_acc did not improve from 1.00000\n",
      "\u001b[1m110/110\u001b[0m \u001b[32m━━━━━━━━━━━━━━━━━━━━\u001b[0m\u001b[37m\u001b[0m \u001b[1m1s\u001b[0m 7ms/step - acc: 0.9998 - loss: 0.0035 - val_acc: 0.9974 - val_loss: 0.0062 - learning_rate: 5.0000e-04\n",
      "Epoch 108/200\n",
      "\u001b[1m102/110\u001b[0m \u001b[32m━━━━━━━━━━━━━━━━━━\u001b[0m\u001b[37m━━\u001b[0m \u001b[1m0s\u001b[0m 6ms/step - acc: 0.9989 - loss: 0.0041\n",
      "Epoch 108: val_acc did not improve from 1.00000\n",
      "\u001b[1m110/110\u001b[0m \u001b[32m━━━━━━━━━━━━━━━━━━━━\u001b[0m\u001b[37m\u001b[0m \u001b[1m1s\u001b[0m 6ms/step - acc: 0.9990 - loss: 0.0041 - val_acc: 0.9949 - val_loss: 0.0083 - learning_rate: 5.0000e-04\n",
      "Epoch 109/200\n",
      "\u001b[1m109/110\u001b[0m \u001b[32m━━━━━━━━━━━━━━━━━━━\u001b[0m\u001b[37m━\u001b[0m \u001b[1m0s\u001b[0m 6ms/step - acc: 0.9998 - loss: 0.0032\n",
      "Epoch 109: val_acc did not improve from 1.00000\n",
      "\u001b[1m110/110\u001b[0m \u001b[32m━━━━━━━━━━━━━━━━━━━━\u001b[0m\u001b[37m\u001b[0m \u001b[1m1s\u001b[0m 7ms/step - acc: 0.9998 - loss: 0.0032 - val_acc: 0.9974 - val_loss: 0.0057 - learning_rate: 5.0000e-04\n",
      "Epoch 110/200\n",
      "\u001b[1m108/110\u001b[0m \u001b[32m━━━━━━━━━━━━━━━━━━━\u001b[0m\u001b[37m━\u001b[0m \u001b[1m0s\u001b[0m 6ms/step - acc: 0.9987 - loss: 0.0036\n",
      "Epoch 110: val_acc did not improve from 1.00000\n",
      "\u001b[1m110/110\u001b[0m \u001b[32m━━━━━━━━━━━━━━━━━━━━\u001b[0m\u001b[37m\u001b[0m \u001b[1m1s\u001b[0m 6ms/step - acc: 0.9987 - loss: 0.0036 - val_acc: 0.9923 - val_loss: 0.0132 - learning_rate: 5.0000e-04\n",
      "Epoch 111/200\n",
      "\u001b[1m110/110\u001b[0m \u001b[32m━━━━━━━━━━━━━━━━━━━━\u001b[0m\u001b[37m\u001b[0m \u001b[1m0s\u001b[0m 6ms/step - acc: 0.9993 - loss: 0.0040\n",
      "Epoch 111: val_acc did not improve from 1.00000\n",
      "\u001b[1m110/110\u001b[0m \u001b[32m━━━━━━━━━━━━━━━━━━━━\u001b[0m\u001b[37m\u001b[0m \u001b[1m1s\u001b[0m 7ms/step - acc: 0.9993 - loss: 0.0040 - val_acc: 0.9949 - val_loss: 0.0073 - learning_rate: 5.0000e-04\n",
      "Epoch 112/200\n",
      "\u001b[1m102/110\u001b[0m \u001b[32m━━━━━━━━━━━━━━━━━━\u001b[0m\u001b[37m━━\u001b[0m \u001b[1m0s\u001b[0m 6ms/step - acc: 0.9994 - loss: 0.0040\n",
      "Epoch 112: val_acc did not improve from 1.00000\n",
      "\u001b[1m110/110\u001b[0m \u001b[32m━━━━━━━━━━━━━━━━━━━━\u001b[0m\u001b[37m\u001b[0m \u001b[1m1s\u001b[0m 7ms/step - acc: 0.9994 - loss: 0.0039 - val_acc: 0.9949 - val_loss: 0.0087 - learning_rate: 5.0000e-04\n",
      "Epoch 113/200\n",
      "\u001b[1m109/110\u001b[0m \u001b[32m━━━━━━━━━━━━━━━━━━━\u001b[0m\u001b[37m━\u001b[0m \u001b[1m0s\u001b[0m 6ms/step - acc: 0.9995 - loss: 0.0031\n",
      "Epoch 113: val_acc did not improve from 1.00000\n",
      "\u001b[1m110/110\u001b[0m \u001b[32m━━━━━━━━━━━━━━━━━━━━\u001b[0m\u001b[37m\u001b[0m \u001b[1m1s\u001b[0m 6ms/step - acc: 0.9995 - loss: 0.0031 - val_acc: 0.9974 - val_loss: 0.0054 - learning_rate: 5.0000e-04\n",
      "Epoch 114/200\n",
      "\u001b[1m108/110\u001b[0m \u001b[32m━━━━━━━━━━━━━━━━━━━\u001b[0m\u001b[37m━\u001b[0m \u001b[1m0s\u001b[0m 6ms/step - acc: 0.9998 - loss: 0.0020\n",
      "Epoch 114: val_acc did not improve from 1.00000\n",
      "\u001b[1m110/110\u001b[0m \u001b[32m━━━━━━━━━━━━━━━━━━━━\u001b[0m\u001b[37m\u001b[0m \u001b[1m1s\u001b[0m 7ms/step - acc: 0.9998 - loss: 0.0020 - val_acc: 0.9974 - val_loss: 0.0053 - learning_rate: 5.0000e-04\n",
      "Epoch 115/200\n",
      "\u001b[1m106/110\u001b[0m \u001b[32m━━━━━━━━━━━━━━━━━━━\u001b[0m\u001b[37m━\u001b[0m \u001b[1m0s\u001b[0m 6ms/step - acc: 0.9996 - loss: 0.0026\n",
      "Epoch 115: val_acc did not improve from 1.00000\n",
      "\u001b[1m110/110\u001b[0m \u001b[32m━━━━━━━━━━━━━━━━━━━━\u001b[0m\u001b[37m\u001b[0m \u001b[1m1s\u001b[0m 7ms/step - acc: 0.9996 - loss: 0.0026 - val_acc: 1.0000 - val_loss: 0.0044 - learning_rate: 5.0000e-04\n",
      "Epoch 116/200\n",
      "\u001b[1m108/110\u001b[0m \u001b[32m━━━━━━━━━━━━━━━━━━━\u001b[0m\u001b[37m━\u001b[0m \u001b[1m0s\u001b[0m 6ms/step - acc: 1.0000 - loss: 0.0020\n",
      "Epoch 116: val_acc did not improve from 1.00000\n",
      "\u001b[1m110/110\u001b[0m \u001b[32m━━━━━━━━━━━━━━━━━━━━\u001b[0m\u001b[37m\u001b[0m \u001b[1m1s\u001b[0m 7ms/step - acc: 1.0000 - loss: 0.0020 - val_acc: 1.0000 - val_loss: 0.0043 - learning_rate: 5.0000e-04\n",
      "Epoch 117/200\n",
      "\u001b[1m101/110\u001b[0m \u001b[32m━━━━━━━━━━━━━━━━━━\u001b[0m\u001b[37m━━\u001b[0m \u001b[1m0s\u001b[0m 6ms/step - acc: 1.0000 - loss: 0.0020\n",
      "Epoch 117: val_acc did not improve from 1.00000\n",
      "\u001b[1m110/110\u001b[0m \u001b[32m━━━━━━━━━━━━━━━━━━━━\u001b[0m\u001b[37m\u001b[0m \u001b[1m1s\u001b[0m 6ms/step - acc: 1.0000 - loss: 0.0020 - val_acc: 1.0000 - val_loss: 0.0028 - learning_rate: 5.0000e-04\n",
      "Epoch 118/200\n",
      "\u001b[1m108/110\u001b[0m \u001b[32m━━━━━━━━━━━━━━━━━━━\u001b[0m\u001b[37m━\u001b[0m \u001b[1m0s\u001b[0m 6ms/step - acc: 0.9999 - loss: 0.0018\n",
      "Epoch 118: val_acc did not improve from 1.00000\n",
      "\u001b[1m110/110\u001b[0m \u001b[32m━━━━━━━━━━━━━━━━━━━━\u001b[0m\u001b[37m\u001b[0m \u001b[1m1s\u001b[0m 6ms/step - acc: 0.9999 - loss: 0.0018 - val_acc: 1.0000 - val_loss: 0.0032 - learning_rate: 5.0000e-04\n",
      "Epoch 119/200\n",
      "\u001b[1m102/110\u001b[0m \u001b[32m━━━━━━━━━━━━━━━━━━\u001b[0m\u001b[37m━━\u001b[0m \u001b[1m0s\u001b[0m 6ms/step - acc: 0.9999 - loss: 0.0019\n",
      "Epoch 119: val_acc did not improve from 1.00000\n",
      "\u001b[1m110/110\u001b[0m \u001b[32m━━━━━━━━━━━━━━━━━━━━\u001b[0m\u001b[37m\u001b[0m \u001b[1m1s\u001b[0m 7ms/step - acc: 0.9999 - loss: 0.0019 - val_acc: 1.0000 - val_loss: 0.0025 - learning_rate: 5.0000e-04\n",
      "Epoch 120/200\n",
      "\u001b[1m105/110\u001b[0m \u001b[32m━━━━━━━━━━━━━━━━━━━\u001b[0m\u001b[37m━\u001b[0m \u001b[1m0s\u001b[0m 6ms/step - acc: 0.9995 - loss: 0.0020\n",
      "Epoch 120: val_acc did not improve from 1.00000\n",
      "\n",
      "Epoch 120: ReduceLROnPlateau reducing learning rate to 0.0002500000118743628.\n",
      "\u001b[1m110/110\u001b[0m \u001b[32m━━━━━━━━━━━━━━━━━━━━\u001b[0m\u001b[37m\u001b[0m \u001b[1m1s\u001b[0m 7ms/step - acc: 0.9995 - loss: 0.0020 - val_acc: 1.0000 - val_loss: 0.0031 - learning_rate: 5.0000e-04\n",
      "Epoch 121/200\n",
      "\u001b[1m104/110\u001b[0m \u001b[32m━━━━━━━━━━━━━━━━━━\u001b[0m\u001b[37m━━\u001b[0m \u001b[1m0s\u001b[0m 6ms/step - acc: 1.0000 - loss: 0.0016\n",
      "Epoch 121: val_acc did not improve from 1.00000\n",
      "\u001b[1m110/110\u001b[0m \u001b[32m━━━━━━━━━━━━━━━━━━━━\u001b[0m\u001b[37m\u001b[0m \u001b[1m1s\u001b[0m 7ms/step - acc: 1.0000 - loss: 0.0016 - val_acc: 1.0000 - val_loss: 0.0026 - learning_rate: 2.5000e-04\n",
      "Epoch 122/200\n",
      "\u001b[1m110/110\u001b[0m \u001b[32m━━━━━━━━━━━━━━━━━━━━\u001b[0m\u001b[37m\u001b[0m \u001b[1m0s\u001b[0m 6ms/step - acc: 1.0000 - loss: 0.0015\n",
      "Epoch 122: val_acc did not improve from 1.00000\n",
      "\u001b[1m110/110\u001b[0m \u001b[32m━━━━━━━━━━━━━━━━━━━━\u001b[0m\u001b[37m\u001b[0m \u001b[1m1s\u001b[0m 7ms/step - acc: 1.0000 - loss: 0.0015 - val_acc: 1.0000 - val_loss: 0.0026 - learning_rate: 2.5000e-04\n",
      "Epoch 123/200\n",
      "\u001b[1m106/110\u001b[0m \u001b[32m━━━━━━━━━━━━━━━━━━━\u001b[0m\u001b[37m━\u001b[0m \u001b[1m0s\u001b[0m 6ms/step - acc: 1.0000 - loss: 0.0012\n",
      "Epoch 123: val_acc did not improve from 1.00000\n",
      "\u001b[1m110/110\u001b[0m \u001b[32m━━━━━━━━━━━━━━━━━━━━\u001b[0m\u001b[37m\u001b[0m \u001b[1m1s\u001b[0m 7ms/step - acc: 1.0000 - loss: 0.0013 - val_acc: 1.0000 - val_loss: 0.0023 - learning_rate: 2.5000e-04\n",
      "Epoch 124/200\n",
      "\u001b[1m108/110\u001b[0m \u001b[32m━━━━━━━━━━━━━━━━━━━\u001b[0m\u001b[37m━\u001b[0m \u001b[1m0s\u001b[0m 6ms/step - acc: 1.0000 - loss: 0.0011\n",
      "Epoch 124: val_acc did not improve from 1.00000\n",
      "\u001b[1m110/110\u001b[0m \u001b[32m━━━━━━━━━━━━━━━━━━━━\u001b[0m\u001b[37m\u001b[0m \u001b[1m1s\u001b[0m 7ms/step - acc: 1.0000 - loss: 0.0011 - val_acc: 1.0000 - val_loss: 0.0023 - learning_rate: 2.5000e-04\n",
      "Epoch 125/200\n",
      "\u001b[1m103/110\u001b[0m \u001b[32m━━━━━━━━━━━━━━━━━━\u001b[0m\u001b[37m━━\u001b[0m \u001b[1m0s\u001b[0m 6ms/step - acc: 1.0000 - loss: 0.0015\n",
      "Epoch 125: val_acc did not improve from 1.00000\n",
      "\u001b[1m110/110\u001b[0m \u001b[32m━━━━━━━━━━━━━━━━━━━━\u001b[0m\u001b[37m\u001b[0m \u001b[1m1s\u001b[0m 7ms/step - acc: 1.0000 - loss: 0.0015 - val_acc: 1.0000 - val_loss: 0.0022 - learning_rate: 2.5000e-04\n",
      "Epoch 126/200\n",
      "\u001b[1m106/110\u001b[0m \u001b[32m━━━━━━━━━━━━━━━━━━━\u001b[0m\u001b[37m━\u001b[0m \u001b[1m0s\u001b[0m 6ms/step - acc: 1.0000 - loss: 0.0015\n",
      "Epoch 126: val_acc did not improve from 1.00000\n",
      "\u001b[1m110/110\u001b[0m \u001b[32m━━━━━━━━━━━━━━━━━━━━\u001b[0m\u001b[37m\u001b[0m \u001b[1m1s\u001b[0m 7ms/step - acc: 1.0000 - loss: 0.0015 - val_acc: 1.0000 - val_loss: 0.0017 - learning_rate: 2.5000e-04\n",
      "Epoch 127/200\n",
      "\u001b[1m107/110\u001b[0m \u001b[32m━━━━━━━━━━━━━━━━━━━\u001b[0m\u001b[37m━\u001b[0m \u001b[1m0s\u001b[0m 6ms/step - acc: 1.0000 - loss: 0.0012\n",
      "Epoch 127: val_acc did not improve from 1.00000\n",
      "\u001b[1m110/110\u001b[0m \u001b[32m━━━━━━━━━━━━━━━━━━━━\u001b[0m\u001b[37m\u001b[0m \u001b[1m1s\u001b[0m 7ms/step - acc: 1.0000 - loss: 0.0012 - val_acc: 1.0000 - val_loss: 0.0017 - learning_rate: 2.5000e-04\n",
      "Epoch 128/200\n",
      "\u001b[1m109/110\u001b[0m \u001b[32m━━━━━━━━━━━━━━━━━━━\u001b[0m\u001b[37m━\u001b[0m \u001b[1m0s\u001b[0m 6ms/step - acc: 1.0000 - loss: 0.0012\n",
      "Epoch 128: val_acc did not improve from 1.00000\n",
      "\u001b[1m110/110\u001b[0m \u001b[32m━━━━━━━━━━━━━━━━━━━━\u001b[0m\u001b[37m\u001b[0m \u001b[1m1s\u001b[0m 7ms/step - acc: 1.0000 - loss: 0.0012 - val_acc: 1.0000 - val_loss: 0.0016 - learning_rate: 2.5000e-04\n",
      "Epoch 129/200\n",
      "\u001b[1m107/110\u001b[0m \u001b[32m━━━━━━━━━━━━━━━━━━━\u001b[0m\u001b[37m━\u001b[0m \u001b[1m0s\u001b[0m 6ms/step - acc: 1.0000 - loss: 0.0010\n",
      "Epoch 129: val_acc did not improve from 1.00000\n",
      "\u001b[1m110/110\u001b[0m \u001b[32m━━━━━━━━━━━━━━━━━━━━\u001b[0m\u001b[37m\u001b[0m \u001b[1m1s\u001b[0m 6ms/step - acc: 1.0000 - loss: 0.0010 - val_acc: 1.0000 - val_loss: 0.0015 - learning_rate: 2.5000e-04\n",
      "Epoch 130/200\n",
      "\u001b[1m103/110\u001b[0m \u001b[32m━━━━━━━━━━━━━━━━━━\u001b[0m\u001b[37m━━\u001b[0m \u001b[1m0s\u001b[0m 6ms/step - acc: 1.0000 - loss: 0.0012\n",
      "Epoch 130: val_acc did not improve from 1.00000\n",
      "\u001b[1m110/110\u001b[0m \u001b[32m━━━━━━━━━━━━━━━━━━━━\u001b[0m\u001b[37m\u001b[0m \u001b[1m1s\u001b[0m 7ms/step - acc: 1.0000 - loss: 0.0012 - val_acc: 1.0000 - val_loss: 0.0024 - learning_rate: 2.5000e-04\n",
      "Epoch 131/200\n",
      "\u001b[1m106/110\u001b[0m \u001b[32m━━━━━━━━━━━━━━━━━━━\u001b[0m\u001b[37m━\u001b[0m \u001b[1m0s\u001b[0m 6ms/step - acc: 1.0000 - loss: 8.9776e-04\n",
      "Epoch 131: val_acc did not improve from 1.00000\n",
      "\u001b[1m110/110\u001b[0m \u001b[32m━━━━━━━━━━━━━━━━━━━━\u001b[0m\u001b[37m\u001b[0m \u001b[1m1s\u001b[0m 7ms/step - acc: 1.0000 - loss: 9.0252e-04 - val_acc: 1.0000 - val_loss: 0.0014 - learning_rate: 2.5000e-04\n",
      "Epoch 132/200\n",
      "\u001b[1m105/110\u001b[0m \u001b[32m━━━━━━━━━━━━━━━━━━━\u001b[0m\u001b[37m━\u001b[0m \u001b[1m0s\u001b[0m 6ms/step - acc: 1.0000 - loss: 9.1335e-04\n",
      "Epoch 132: val_acc did not improve from 1.00000\n",
      "\u001b[1m110/110\u001b[0m \u001b[32m━━━━━━━━━━━━━━━━━━━━\u001b[0m\u001b[37m\u001b[0m \u001b[1m1s\u001b[0m 7ms/step - acc: 1.0000 - loss: 9.1617e-04 - val_acc: 1.0000 - val_loss: 0.0016 - learning_rate: 2.5000e-04\n",
      "Epoch 133/200\n",
      "\u001b[1m110/110\u001b[0m \u001b[32m━━━━━━━━━━━━━━━━━━━━\u001b[0m\u001b[37m\u001b[0m \u001b[1m0s\u001b[0m 6ms/step - acc: 1.0000 - loss: 9.8389e-04\n",
      "Epoch 133: val_acc did not improve from 1.00000\n",
      "\u001b[1m110/110\u001b[0m \u001b[32m━━━━━━━━━━━━━━━━━━━━\u001b[0m\u001b[37m\u001b[0m \u001b[1m1s\u001b[0m 7ms/step - acc: 1.0000 - loss: 9.8290e-04 - val_acc: 1.0000 - val_loss: 0.0014 - learning_rate: 2.5000e-04\n",
      "Epoch 134/200\n",
      "\u001b[1m107/110\u001b[0m \u001b[32m━━━━━━━━━━━━━━━━━━━\u001b[0m\u001b[37m━\u001b[0m \u001b[1m0s\u001b[0m 6ms/step - acc: 1.0000 - loss: 8.7400e-04\n",
      "Epoch 134: val_acc did not improve from 1.00000\n",
      "\u001b[1m110/110\u001b[0m \u001b[32m━━━━━━━━━━━━━━━━━━━━\u001b[0m\u001b[37m\u001b[0m \u001b[1m1s\u001b[0m 7ms/step - acc: 1.0000 - loss: 8.7365e-04 - val_acc: 1.0000 - val_loss: 0.0013 - learning_rate: 2.5000e-04\n",
      "Epoch 135/200\n",
      "\u001b[1m108/110\u001b[0m \u001b[32m━━━━━━━━━━━━━━━━━━━\u001b[0m\u001b[37m━\u001b[0m \u001b[1m0s\u001b[0m 6ms/step - acc: 1.0000 - loss: 6.6257e-04\n",
      "Epoch 135: val_acc did not improve from 1.00000\n",
      "\u001b[1m110/110\u001b[0m \u001b[32m━━━━━━━━━━━━━━━━━━━━\u001b[0m\u001b[37m\u001b[0m \u001b[1m1s\u001b[0m 7ms/step - acc: 1.0000 - loss: 6.6581e-04 - val_acc: 1.0000 - val_loss: 0.0012 - learning_rate: 2.5000e-04\n",
      "Epoch 136/200\n",
      "\u001b[1m104/110\u001b[0m \u001b[32m━━━━━━━━━━━━━━━━━━\u001b[0m\u001b[37m━━\u001b[0m \u001b[1m0s\u001b[0m 6ms/step - acc: 1.0000 - loss: 6.8169e-04\n",
      "Epoch 136: val_acc did not improve from 1.00000\n",
      "\u001b[1m110/110\u001b[0m \u001b[32m━━━━━━━━━━━━━━━━━━━━\u001b[0m\u001b[37m\u001b[0m \u001b[1m1s\u001b[0m 7ms/step - acc: 1.0000 - loss: 6.8507e-04 - val_acc: 1.0000 - val_loss: 9.1210e-04 - learning_rate: 2.5000e-04\n",
      "Epoch 137/200\n",
      "\u001b[1m102/110\u001b[0m \u001b[32m━━━━━━━━━━━━━━━━━━\u001b[0m\u001b[37m━━\u001b[0m \u001b[1m0s\u001b[0m 6ms/step - acc: 1.0000 - loss: 7.8167e-04\n",
      "Epoch 137: val_acc did not improve from 1.00000\n",
      "\u001b[1m110/110\u001b[0m \u001b[32m━━━━━━━━━━━━━━━━━━━━\u001b[0m\u001b[37m\u001b[0m \u001b[1m1s\u001b[0m 7ms/step - acc: 1.0000 - loss: 7.7845e-04 - val_acc: 1.0000 - val_loss: 9.2159e-04 - learning_rate: 2.5000e-04\n",
      "Epoch 138/200\n",
      "\u001b[1m107/110\u001b[0m \u001b[32m━━━━━━━━━━━━━━━━━━━\u001b[0m\u001b[37m━\u001b[0m \u001b[1m0s\u001b[0m 6ms/step - acc: 1.0000 - loss: 5.9339e-04\n",
      "Epoch 138: val_acc did not improve from 1.00000\n",
      "\u001b[1m110/110\u001b[0m \u001b[32m━━━━━━━━━━━━━━━━━━━━\u001b[0m\u001b[37m\u001b[0m \u001b[1m1s\u001b[0m 7ms/step - acc: 1.0000 - loss: 5.9632e-04 - val_acc: 1.0000 - val_loss: 8.3133e-04 - learning_rate: 2.5000e-04\n",
      "Epoch 139/200\n",
      "\u001b[1m101/110\u001b[0m \u001b[32m━━━━━━━━━━━━━━━━━━\u001b[0m\u001b[37m━━\u001b[0m \u001b[1m0s\u001b[0m 6ms/step - acc: 1.0000 - loss: 4.7655e-04\n",
      "Epoch 139: val_acc did not improve from 1.00000\n",
      "\u001b[1m110/110\u001b[0m \u001b[32m━━━━━━━━━━━━━━━━━━━━\u001b[0m\u001b[37m\u001b[0m \u001b[1m1s\u001b[0m 7ms/step - acc: 1.0000 - loss: 4.8829e-04 - val_acc: 1.0000 - val_loss: 9.3842e-04 - learning_rate: 2.5000e-04\n",
      "Epoch 140/200\n",
      "\u001b[1m109/110\u001b[0m \u001b[32m━━━━━━━━━━━━━━━━━━━\u001b[0m\u001b[37m━\u001b[0m \u001b[1m0s\u001b[0m 6ms/step - acc: 1.0000 - loss: 5.5199e-04\n",
      "Epoch 140: val_acc did not improve from 1.00000\n",
      "\u001b[1m110/110\u001b[0m \u001b[32m━━━━━━━━━━━━━━━━━━━━\u001b[0m\u001b[37m\u001b[0m \u001b[1m1s\u001b[0m 7ms/step - acc: 1.0000 - loss: 5.5247e-04 - val_acc: 1.0000 - val_loss: 6.8497e-04 - learning_rate: 2.5000e-04\n",
      "Epoch 141/200\n",
      "\u001b[1m105/110\u001b[0m \u001b[32m━━━━━━━━━━━━━━━━━━━\u001b[0m\u001b[37m━\u001b[0m \u001b[1m0s\u001b[0m 6ms/step - acc: 1.0000 - loss: 5.8864e-04\n",
      "Epoch 141: val_acc did not improve from 1.00000\n",
      "\u001b[1m110/110\u001b[0m \u001b[32m━━━━━━━━━━━━━━━━━━━━\u001b[0m\u001b[37m\u001b[0m \u001b[1m1s\u001b[0m 6ms/step - acc: 1.0000 - loss: 5.8558e-04 - val_acc: 1.0000 - val_loss: 6.5880e-04 - learning_rate: 2.5000e-04\n",
      "Epoch 142/200\n",
      "\u001b[1m105/110\u001b[0m \u001b[32m━━━━━━━━━━━━━━━━━━━\u001b[0m\u001b[37m━\u001b[0m \u001b[1m0s\u001b[0m 6ms/step - acc: 0.9999 - loss: 6.2014e-04\n",
      "Epoch 142: val_acc did not improve from 1.00000\n",
      "\u001b[1m110/110\u001b[0m \u001b[32m━━━━━━━━━━━━━━━━━━━━\u001b[0m\u001b[37m\u001b[0m \u001b[1m1s\u001b[0m 7ms/step - acc: 0.9999 - loss: 6.3152e-04 - val_acc: 1.0000 - val_loss: 0.0021 - learning_rate: 2.5000e-04\n",
      "Epoch 143/200\n",
      "\u001b[1m104/110\u001b[0m \u001b[32m━━━━━━━━━━━━━━━━━━\u001b[0m\u001b[37m━━\u001b[0m \u001b[1m0s\u001b[0m 6ms/step - acc: 1.0000 - loss: 0.0015\n",
      "Epoch 143: val_acc did not improve from 1.00000\n",
      "\u001b[1m110/110\u001b[0m \u001b[32m━━━━━━━━━━━━━━━━━━━━\u001b[0m\u001b[37m\u001b[0m \u001b[1m1s\u001b[0m 7ms/step - acc: 1.0000 - loss: 0.0015 - val_acc: 1.0000 - val_loss: 9.2646e-04 - learning_rate: 2.5000e-04\n",
      "Epoch 144/200\n",
      "\u001b[1m106/110\u001b[0m \u001b[32m━━━━━━━━━━━━━━━━━━━\u001b[0m\u001b[37m━\u001b[0m \u001b[1m0s\u001b[0m 7ms/step - acc: 1.0000 - loss: 5.4401e-04\n",
      "Epoch 144: val_acc did not improve from 1.00000\n",
      "\u001b[1m110/110\u001b[0m \u001b[32m━━━━━━━━━━━━━━━━━━━━\u001b[0m\u001b[37m\u001b[0m \u001b[1m1s\u001b[0m 8ms/step - acc: 1.0000 - loss: 5.4991e-04 - val_acc: 1.0000 - val_loss: 6.5852e-04 - learning_rate: 2.5000e-04\n",
      "Epoch 145/200\n",
      "\u001b[1m109/110\u001b[0m \u001b[32m━━━━━━━━━━━━━━━━━━━\u001b[0m\u001b[37m━\u001b[0m \u001b[1m0s\u001b[0m 6ms/step - acc: 1.0000 - loss: 5.1975e-04\n",
      "Epoch 145: val_acc did not improve from 1.00000\n",
      "\u001b[1m110/110\u001b[0m \u001b[32m━━━━━━━━━━━━━━━━━━━━\u001b[0m\u001b[37m\u001b[0m \u001b[1m1s\u001b[0m 7ms/step - acc: 1.0000 - loss: 5.2142e-04 - val_acc: 1.0000 - val_loss: 5.1992e-04 - learning_rate: 2.5000e-04\n",
      "Epoch 146/200\n",
      "\u001b[1m109/110\u001b[0m \u001b[32m━━━━━━━━━━━━━━━━━━━\u001b[0m\u001b[37m━\u001b[0m \u001b[1m0s\u001b[0m 6ms/step - acc: 1.0000 - loss: 4.3093e-04\n",
      "Epoch 146: val_acc did not improve from 1.00000\n",
      "\u001b[1m110/110\u001b[0m \u001b[32m━━━━━━━━━━━━━━━━━━━━\u001b[0m\u001b[37m\u001b[0m \u001b[1m1s\u001b[0m 7ms/step - acc: 1.0000 - loss: 4.3285e-04 - val_acc: 1.0000 - val_loss: 4.6311e-04 - learning_rate: 2.5000e-04\n",
      "Epoch 147/200\n",
      "\u001b[1m110/110\u001b[0m \u001b[32m━━━━━━━━━━━━━━━━━━━━\u001b[0m\u001b[37m\u001b[0m \u001b[1m0s\u001b[0m 6ms/step - acc: 1.0000 - loss: 4.5526e-04\n",
      "Epoch 147: val_acc did not improve from 1.00000\n",
      "\u001b[1m110/110\u001b[0m \u001b[32m━━━━━━━━━━━━━━━━━━━━\u001b[0m\u001b[37m\u001b[0m \u001b[1m1s\u001b[0m 7ms/step - acc: 1.0000 - loss: 4.5564e-04 - val_acc: 1.0000 - val_loss: 4.6958e-04 - learning_rate: 2.5000e-04\n",
      "Epoch 148/200\n",
      "\u001b[1m108/110\u001b[0m \u001b[32m━━━━━━━━━━━━━━━━━━━\u001b[0m\u001b[37m━\u001b[0m \u001b[1m0s\u001b[0m 6ms/step - acc: 1.0000 - loss: 4.1527e-04\n",
      "Epoch 148: val_acc did not improve from 1.00000\n",
      "\u001b[1m110/110\u001b[0m \u001b[32m━━━━━━━━━━━━━━━━━━━━\u001b[0m\u001b[37m\u001b[0m \u001b[1m1s\u001b[0m 7ms/step - acc: 1.0000 - loss: 4.1655e-04 - val_acc: 1.0000 - val_loss: 3.8461e-04 - learning_rate: 2.5000e-04\n",
      "Epoch 149/200\n",
      "\u001b[1m108/110\u001b[0m \u001b[32m━━━━━━━━━━━━━━━━━━━\u001b[0m\u001b[37m━\u001b[0m \u001b[1m0s\u001b[0m 6ms/step - acc: 1.0000 - loss: 3.9298e-04\n",
      "Epoch 149: val_acc did not improve from 1.00000\n",
      "\u001b[1m110/110\u001b[0m \u001b[32m━━━━━━━━━━━━━━━━━━━━\u001b[0m\u001b[37m\u001b[0m \u001b[1m1s\u001b[0m 7ms/step - acc: 1.0000 - loss: 3.9391e-04 - val_acc: 1.0000 - val_loss: 3.4563e-04 - learning_rate: 2.5000e-04\n",
      "Epoch 150/200\n",
      "\u001b[1m106/110\u001b[0m \u001b[32m━━━━━━━━━━━━━━━━━━━\u001b[0m\u001b[37m━\u001b[0m \u001b[1m0s\u001b[0m 7ms/step - acc: 1.0000 - loss: 3.9545e-04\n",
      "Epoch 150: val_acc did not improve from 1.00000\n",
      "\u001b[1m110/110\u001b[0m \u001b[32m━━━━━━━━━━━━━━━━━━━━\u001b[0m\u001b[37m\u001b[0m \u001b[1m1s\u001b[0m 8ms/step - acc: 1.0000 - loss: 3.9475e-04 - val_acc: 1.0000 - val_loss: 3.4122e-04 - learning_rate: 2.5000e-04\n",
      "Epoch 151/200\n",
      "\u001b[1m102/110\u001b[0m \u001b[32m━━━━━━━━━━━━━━━━━━\u001b[0m\u001b[37m━━\u001b[0m \u001b[1m0s\u001b[0m 6ms/step - acc: 1.0000 - loss: 3.4273e-04\n",
      "Epoch 151: val_acc did not improve from 1.00000\n",
      "\u001b[1m110/110\u001b[0m \u001b[32m━━━━━━━━━━━━━━━━━━━━\u001b[0m\u001b[37m\u001b[0m \u001b[1m1s\u001b[0m 7ms/step - acc: 1.0000 - loss: 3.4357e-04 - val_acc: 1.0000 - val_loss: 2.9244e-04 - learning_rate: 2.5000e-04\n",
      "Epoch 152/200\n",
      "\u001b[1m107/110\u001b[0m \u001b[32m━━━━━━━━━━━━━━━━━━━\u001b[0m\u001b[37m━\u001b[0m \u001b[1m0s\u001b[0m 7ms/step - acc: 1.0000 - loss: 3.0005e-04\n",
      "Epoch 152: val_acc did not improve from 1.00000\n",
      "\u001b[1m110/110\u001b[0m \u001b[32m━━━━━━━━━━━━━━━━━━━━\u001b[0m\u001b[37m\u001b[0m \u001b[1m1s\u001b[0m 7ms/step - acc: 1.0000 - loss: 3.0101e-04 - val_acc: 1.0000 - val_loss: 2.8253e-04 - learning_rate: 2.5000e-04\n",
      "Epoch 153/200\n",
      "\u001b[1m101/110\u001b[0m \u001b[32m━━━━━━━━━━━━━━━━━━\u001b[0m\u001b[37m━━\u001b[0m \u001b[1m0s\u001b[0m 6ms/step - acc: 1.0000 - loss: 2.3425e-04\n",
      "Epoch 153: val_acc did not improve from 1.00000\n",
      "\u001b[1m110/110\u001b[0m \u001b[32m━━━━━━━━━━━━━━━━━━━━\u001b[0m\u001b[37m\u001b[0m \u001b[1m1s\u001b[0m 7ms/step - acc: 1.0000 - loss: 2.3849e-04 - val_acc: 1.0000 - val_loss: 2.7677e-04 - learning_rate: 2.5000e-04\n",
      "Epoch 154/200\n",
      "\u001b[1m107/110\u001b[0m \u001b[32m━━━━━━━━━━━━━━━━━━━\u001b[0m\u001b[37m━\u001b[0m \u001b[1m0s\u001b[0m 7ms/step - acc: 1.0000 - loss: 2.6922e-04\n",
      "Epoch 154: val_acc did not improve from 1.00000\n",
      "\u001b[1m110/110\u001b[0m \u001b[32m━━━━━━━━━━━━━━━━━━━━\u001b[0m\u001b[37m\u001b[0m \u001b[1m1s\u001b[0m 8ms/step - acc: 1.0000 - loss: 2.6957e-04 - val_acc: 1.0000 - val_loss: 2.4660e-04 - learning_rate: 2.5000e-04\n",
      "Epoch 155/200\n",
      "\u001b[1m104/110\u001b[0m \u001b[32m━━━━━━━━━━━━━━━━━━\u001b[0m\u001b[37m━━\u001b[0m \u001b[1m0s\u001b[0m 6ms/step - acc: 1.0000 - loss: 2.0554e-04\n",
      "Epoch 155: val_acc did not improve from 1.00000\n",
      "\u001b[1m110/110\u001b[0m \u001b[32m━━━━━━━━━━━━━━━━━━━━\u001b[0m\u001b[37m\u001b[0m \u001b[1m1s\u001b[0m 7ms/step - acc: 1.0000 - loss: 2.0908e-04 - val_acc: 1.0000 - val_loss: 2.4563e-04 - learning_rate: 2.5000e-04\n",
      "Epoch 156/200\n",
      "\u001b[1m104/110\u001b[0m \u001b[32m━━━━━━━━━━━━━━━━━━\u001b[0m\u001b[37m━━\u001b[0m \u001b[1m0s\u001b[0m 7ms/step - acc: 1.0000 - loss: 1.7736e-04\n",
      "Epoch 156: val_acc did not improve from 1.00000\n",
      "\u001b[1m110/110\u001b[0m \u001b[32m━━━━━━━━━━━━━━━━━━━━\u001b[0m\u001b[37m\u001b[0m \u001b[1m1s\u001b[0m 7ms/step - acc: 1.0000 - loss: 1.8158e-04 - val_acc: 1.0000 - val_loss: 2.2471e-04 - learning_rate: 2.5000e-04\n",
      "Epoch 157/200\n",
      "\u001b[1m106/110\u001b[0m \u001b[32m━━━━━━━━━━━━━━━━━━━\u001b[0m\u001b[37m━\u001b[0m \u001b[1m0s\u001b[0m 6ms/step - acc: 1.0000 - loss: 1.8531e-04\n",
      "Epoch 157: val_acc did not improve from 1.00000\n",
      "\u001b[1m110/110\u001b[0m \u001b[32m━━━━━━━━━━━━━━━━━━━━\u001b[0m\u001b[37m\u001b[0m \u001b[1m1s\u001b[0m 7ms/step - acc: 1.0000 - loss: 1.8738e-04 - val_acc: 1.0000 - val_loss: 2.1561e-04 - learning_rate: 2.5000e-04\n",
      "Epoch 158/200\n",
      "\u001b[1m109/110\u001b[0m \u001b[32m━━━━━━━━━━━━━━━━━━━\u001b[0m\u001b[37m━\u001b[0m \u001b[1m0s\u001b[0m 7ms/step - acc: 1.0000 - loss: 2.0111e-04\n",
      "Epoch 158: val_acc did not improve from 1.00000\n",
      "\u001b[1m110/110\u001b[0m \u001b[32m━━━━━━━━━━━━━━━━━━━━\u001b[0m\u001b[37m\u001b[0m \u001b[1m1s\u001b[0m 7ms/step - acc: 1.0000 - loss: 2.0135e-04 - val_acc: 1.0000 - val_loss: 1.9557e-04 - learning_rate: 2.5000e-04\n",
      "Epoch 159/200\n",
      "\u001b[1m109/110\u001b[0m \u001b[32m━━━━━━━━━━━━━━━━━━━\u001b[0m\u001b[37m━\u001b[0m \u001b[1m0s\u001b[0m 6ms/step - acc: 1.0000 - loss: 2.0130e-04\n",
      "Epoch 159: val_acc did not improve from 1.00000\n",
      "\u001b[1m110/110\u001b[0m \u001b[32m━━━━━━━━━━━━━━━━━━━━\u001b[0m\u001b[37m\u001b[0m \u001b[1m1s\u001b[0m 7ms/step - acc: 1.0000 - loss: 2.0117e-04 - val_acc: 1.0000 - val_loss: 1.8046e-04 - learning_rate: 2.5000e-04\n",
      "Epoch 160/200\n",
      "\u001b[1m105/110\u001b[0m \u001b[32m━━━━━━━━━━━━━━━━━━━\u001b[0m\u001b[37m━\u001b[0m \u001b[1m0s\u001b[0m 7ms/step - acc: 1.0000 - loss: 1.6690e-04\n",
      "Epoch 160: val_acc did not improve from 1.00000\n",
      "\u001b[1m110/110\u001b[0m \u001b[32m━━━━━━━━━━━━━━━━━━━━\u001b[0m\u001b[37m\u001b[0m \u001b[1m1s\u001b[0m 9ms/step - acc: 1.0000 - loss: 1.6755e-04 - val_acc: 1.0000 - val_loss: 1.7286e-04 - learning_rate: 2.5000e-04\n",
      "Epoch 161/200\n",
      "\u001b[1m105/110\u001b[0m \u001b[32m━━━━━━━━━━━━━━━━━━━\u001b[0m\u001b[37m━\u001b[0m \u001b[1m0s\u001b[0m 7ms/step - acc: 1.0000 - loss: 1.8449e-04\n",
      "Epoch 161: val_acc did not improve from 1.00000\n",
      "\u001b[1m110/110\u001b[0m \u001b[32m━━━━━━━━━━━━━━━━━━━━\u001b[0m\u001b[37m\u001b[0m \u001b[1m1s\u001b[0m 7ms/step - acc: 1.0000 - loss: 1.8359e-04 - val_acc: 1.0000 - val_loss: 1.6116e-04 - learning_rate: 2.5000e-04\n",
      "Epoch 162/200\n",
      "\u001b[1m108/110\u001b[0m \u001b[32m━━━━━━━━━━━━━━━━━━━\u001b[0m\u001b[37m━\u001b[0m \u001b[1m0s\u001b[0m 6ms/step - acc: 1.0000 - loss: 1.9088e-04\n",
      "Epoch 162: val_acc did not improve from 1.00000\n",
      "\u001b[1m110/110\u001b[0m \u001b[32m━━━━━━━━━━━━━━━━━━━━\u001b[0m\u001b[37m\u001b[0m \u001b[1m1s\u001b[0m 7ms/step - acc: 1.0000 - loss: 1.8987e-04 - val_acc: 1.0000 - val_loss: 1.6163e-04 - learning_rate: 2.5000e-04\n",
      "Epoch 163/200\n",
      "\u001b[1m105/110\u001b[0m \u001b[32m━━━━━━━━━━━━━━━━━━━\u001b[0m\u001b[37m━\u001b[0m \u001b[1m0s\u001b[0m 6ms/step - acc: 1.0000 - loss: 1.4953e-04\n",
      "Epoch 163: val_acc did not improve from 1.00000\n",
      "\u001b[1m110/110\u001b[0m \u001b[32m━━━━━━━━━━━━━━━━━━━━\u001b[0m\u001b[37m\u001b[0m \u001b[1m1s\u001b[0m 7ms/step - acc: 1.0000 - loss: 1.4955e-04 - val_acc: 1.0000 - val_loss: 1.4442e-04 - learning_rate: 2.5000e-04\n",
      "Epoch 164/200\n",
      "\u001b[1m105/110\u001b[0m \u001b[32m━━━━━━━━━━━━━━━━━━━\u001b[0m\u001b[37m━\u001b[0m \u001b[1m0s\u001b[0m 6ms/step - acc: 1.0000 - loss: 1.3361e-04\n",
      "Epoch 164: val_acc did not improve from 1.00000\n",
      "\u001b[1m110/110\u001b[0m \u001b[32m━━━━━━━━━━━━━━━━━━━━\u001b[0m\u001b[37m\u001b[0m \u001b[1m1s\u001b[0m 7ms/step - acc: 1.0000 - loss: 1.3377e-04 - val_acc: 1.0000 - val_loss: 1.3630e-04 - learning_rate: 2.5000e-04\n",
      "Epoch 165/200\n",
      "\u001b[1m102/110\u001b[0m \u001b[32m━━━━━━━━━━━━━━━━━━\u001b[0m\u001b[37m━━\u001b[0m \u001b[1m0s\u001b[0m 6ms/step - acc: 1.0000 - loss: 1.2994e-04\n",
      "Epoch 165: val_acc did not improve from 1.00000\n",
      "\u001b[1m110/110\u001b[0m \u001b[32m━━━━━━━━━━━━━━━━━━━━\u001b[0m\u001b[37m\u001b[0m \u001b[1m1s\u001b[0m 7ms/step - acc: 1.0000 - loss: 1.2989e-04 - val_acc: 1.0000 - val_loss: 1.3476e-04 - learning_rate: 2.5000e-04\n",
      "Epoch 166/200\n",
      "\u001b[1m110/110\u001b[0m \u001b[32m━━━━━━━━━━━━━━━━━━━━\u001b[0m\u001b[37m\u001b[0m \u001b[1m0s\u001b[0m 6ms/step - acc: 1.0000 - loss: 1.1923e-04\n",
      "Epoch 166: val_acc did not improve from 1.00000\n",
      "\u001b[1m110/110\u001b[0m \u001b[32m━━━━━━━━━━━━━━━━━━━━\u001b[0m\u001b[37m\u001b[0m \u001b[1m1s\u001b[0m 7ms/step - acc: 1.0000 - loss: 1.1926e-04 - val_acc: 1.0000 - val_loss: 1.2323e-04 - learning_rate: 2.5000e-04\n",
      "Epoch 167/200\n",
      "\u001b[1m101/110\u001b[0m \u001b[32m━━━━━━━━━━━━━━━━━━\u001b[0m\u001b[37m━━\u001b[0m \u001b[1m0s\u001b[0m 6ms/step - acc: 1.0000 - loss: 1.0994e-04\n",
      "Epoch 167: val_acc did not improve from 1.00000\n",
      "\u001b[1m110/110\u001b[0m \u001b[32m━━━━━━━━━━━━━━━━━━━━\u001b[0m\u001b[37m\u001b[0m \u001b[1m1s\u001b[0m 7ms/step - acc: 1.0000 - loss: 1.0997e-04 - val_acc: 1.0000 - val_loss: 1.1434e-04 - learning_rate: 2.5000e-04\n",
      "Epoch 168/200\n",
      "\u001b[1m108/110\u001b[0m \u001b[32m━━━━━━━━━━━━━━━━━━━\u001b[0m\u001b[37m━\u001b[0m \u001b[1m0s\u001b[0m 6ms/step - acc: 1.0000 - loss: 8.6273e-05\n",
      "Epoch 168: val_acc did not improve from 1.00000\n",
      "\u001b[1m110/110\u001b[0m \u001b[32m━━━━━━━━━━━━━━━━━━━━\u001b[0m\u001b[37m\u001b[0m \u001b[1m1s\u001b[0m 7ms/step - acc: 1.0000 - loss: 8.6831e-05 - val_acc: 1.0000 - val_loss: 1.0759e-04 - learning_rate: 2.5000e-04\n",
      "Epoch 169/200\n",
      "\u001b[1m104/110\u001b[0m \u001b[32m━━━━━━━━━━━━━━━━━━\u001b[0m\u001b[37m━━\u001b[0m \u001b[1m0s\u001b[0m 6ms/step - acc: 1.0000 - loss: 1.0118e-04\n",
      "Epoch 169: val_acc did not improve from 1.00000\n",
      "\u001b[1m110/110\u001b[0m \u001b[32m━━━━━━━━━━━━━━━━━━━━\u001b[0m\u001b[37m\u001b[0m \u001b[1m1s\u001b[0m 7ms/step - acc: 1.0000 - loss: 1.0118e-04 - val_acc: 1.0000 - val_loss: 9.8106e-05 - learning_rate: 2.5000e-04\n",
      "Epoch 170/200\n",
      "\u001b[1m102/110\u001b[0m \u001b[32m━━━━━━━━━━━━━━━━━━\u001b[0m\u001b[37m━━\u001b[0m \u001b[1m0s\u001b[0m 6ms/step - acc: 1.0000 - loss: 7.1872e-05\n",
      "Epoch 170: val_acc did not improve from 1.00000\n",
      "\n",
      "Epoch 170: ReduceLROnPlateau reducing learning rate to 0.0001250000059371814.\n",
      "\u001b[1m110/110\u001b[0m \u001b[32m━━━━━━━━━━━━━━━━━━━━\u001b[0m\u001b[37m\u001b[0m \u001b[1m1s\u001b[0m 7ms/step - acc: 1.0000 - loss: 7.3440e-05 - val_acc: 1.0000 - val_loss: 9.2107e-05 - learning_rate: 2.5000e-04\n",
      "Epoch 171/200\n",
      "\u001b[1m103/110\u001b[0m \u001b[32m━━━━━━━━━━━━━━━━━━\u001b[0m\u001b[37m━━\u001b[0m \u001b[1m0s\u001b[0m 6ms/step - acc: 1.0000 - loss: 8.5867e-05\n",
      "Epoch 171: val_acc did not improve from 1.00000\n",
      "\u001b[1m110/110\u001b[0m \u001b[32m━━━━━━━━━━━━━━━━━━━━\u001b[0m\u001b[37m\u001b[0m \u001b[1m1s\u001b[0m 7ms/step - acc: 1.0000 - loss: 8.5892e-05 - val_acc: 1.0000 - val_loss: 9.2211e-05 - learning_rate: 1.2500e-04\n",
      "Epoch 172/200\n",
      "\u001b[1m106/110\u001b[0m \u001b[32m━━━━━━━━━━━━━━━━━━━\u001b[0m\u001b[37m━\u001b[0m \u001b[1m0s\u001b[0m 6ms/step - acc: 1.0000 - loss: 7.6149e-05\n",
      "Epoch 172: val_acc did not improve from 1.00000\n",
      "\u001b[1m110/110\u001b[0m \u001b[32m━━━━━━━━━━━━━━━━━━━━\u001b[0m\u001b[37m\u001b[0m \u001b[1m1s\u001b[0m 6ms/step - acc: 1.0000 - loss: 7.6515e-05 - val_acc: 1.0000 - val_loss: 8.7897e-05 - learning_rate: 1.2500e-04\n",
      "Epoch 173/200\n",
      "\u001b[1m105/110\u001b[0m \u001b[32m━━━━━━━━━━━━━━━━━━━\u001b[0m\u001b[37m━\u001b[0m \u001b[1m0s\u001b[0m 6ms/step - acc: 1.0000 - loss: 8.0527e-05\n",
      "Epoch 173: val_acc did not improve from 1.00000\n",
      "\u001b[1m110/110\u001b[0m \u001b[32m━━━━━━━━━━━━━━━━━━━━\u001b[0m\u001b[37m\u001b[0m \u001b[1m1s\u001b[0m 7ms/step - acc: 1.0000 - loss: 8.0557e-05 - val_acc: 1.0000 - val_loss: 8.5826e-05 - learning_rate: 1.2500e-04\n",
      "Epoch 174/200\n",
      "\u001b[1m107/110\u001b[0m \u001b[32m━━━━━━━━━━━━━━━━━━━\u001b[0m\u001b[37m━\u001b[0m \u001b[1m0s\u001b[0m 6ms/step - acc: 1.0000 - loss: 8.0053e-05\n",
      "Epoch 174: val_acc did not improve from 1.00000\n",
      "\u001b[1m110/110\u001b[0m \u001b[32m━━━━━━━━━━━━━━━━━━━━\u001b[0m\u001b[37m\u001b[0m \u001b[1m1s\u001b[0m 7ms/step - acc: 1.0000 - loss: 7.9965e-05 - val_acc: 1.0000 - val_loss: 8.2368e-05 - learning_rate: 1.2500e-04\n",
      "Epoch 175/200\n",
      "\u001b[1m104/110\u001b[0m \u001b[32m━━━━━━━━━━━━━━━━━━\u001b[0m\u001b[37m━━\u001b[0m \u001b[1m0s\u001b[0m 6ms/step - acc: 1.0000 - loss: 6.8793e-05\n",
      "Epoch 175: val_acc did not improve from 1.00000\n",
      "\u001b[1m110/110\u001b[0m \u001b[32m━━━━━━━━━━━━━━━━━━━━\u001b[0m\u001b[37m\u001b[0m \u001b[1m1s\u001b[0m 7ms/step - acc: 1.0000 - loss: 6.9158e-05 - val_acc: 1.0000 - val_loss: 8.0084e-05 - learning_rate: 1.2500e-04\n",
      "Epoch 176/200\n",
      "\u001b[1m108/110\u001b[0m \u001b[32m━━━━━━━━━━━━━━━━━━━\u001b[0m\u001b[37m━\u001b[0m \u001b[1m0s\u001b[0m 7ms/step - acc: 1.0000 - loss: 8.3754e-05\n",
      "Epoch 176: val_acc did not improve from 1.00000\n",
      "\u001b[1m110/110\u001b[0m \u001b[32m━━━━━━━━━━━━━━━━━━━━\u001b[0m\u001b[37m\u001b[0m \u001b[1m1s\u001b[0m 7ms/step - acc: 1.0000 - loss: 8.3458e-05 - val_acc: 1.0000 - val_loss: 7.7502e-05 - learning_rate: 1.2500e-04\n",
      "Epoch 177/200\n",
      "\u001b[1m109/110\u001b[0m \u001b[32m━━━━━━━━━━━━━━━━━━━\u001b[0m\u001b[37m━\u001b[0m \u001b[1m0s\u001b[0m 6ms/step - acc: 1.0000 - loss: 6.9378e-05\n",
      "Epoch 177: val_acc did not improve from 1.00000\n",
      "\u001b[1m110/110\u001b[0m \u001b[32m━━━━━━━━━━━━━━━━━━━━\u001b[0m\u001b[37m\u001b[0m \u001b[1m1s\u001b[0m 7ms/step - acc: 1.0000 - loss: 6.9399e-05 - val_acc: 1.0000 - val_loss: 7.4101e-05 - learning_rate: 1.2500e-04\n",
      "Epoch 178/200\n",
      "\u001b[1m107/110\u001b[0m \u001b[32m━━━━━━━━━━━━━━━━━━━\u001b[0m\u001b[37m━\u001b[0m \u001b[1m0s\u001b[0m 6ms/step - acc: 1.0000 - loss: 7.4823e-05\n",
      "Epoch 178: val_acc did not improve from 1.00000\n",
      "\u001b[1m110/110\u001b[0m \u001b[32m━━━━━━━━━━━━━━━━━━━━\u001b[0m\u001b[37m\u001b[0m \u001b[1m1s\u001b[0m 7ms/step - acc: 1.0000 - loss: 7.4524e-05 - val_acc: 1.0000 - val_loss: 7.1782e-05 - learning_rate: 1.2500e-04\n",
      "Epoch 179/200\n",
      "\u001b[1m106/110\u001b[0m \u001b[32m━━━━━━━━━━━━━━━━━━━\u001b[0m\u001b[37m━\u001b[0m \u001b[1m0s\u001b[0m 6ms/step - acc: 1.0000 - loss: 5.6193e-05\n",
      "Epoch 179: val_acc did not improve from 1.00000\n",
      "\u001b[1m110/110\u001b[0m \u001b[32m━━━━━━━━━━━━━━━━━━━━\u001b[0m\u001b[37m\u001b[0m \u001b[1m1s\u001b[0m 7ms/step - acc: 1.0000 - loss: 5.6595e-05 - val_acc: 1.0000 - val_loss: 6.9688e-05 - learning_rate: 1.2500e-04\n",
      "Epoch 180/200\n",
      "\u001b[1m106/110\u001b[0m \u001b[32m━━━━━━━━━━━━━━━━━━━\u001b[0m\u001b[37m━\u001b[0m \u001b[1m0s\u001b[0m 7ms/step - acc: 1.0000 - loss: 6.3124e-05\n",
      "Epoch 180: val_acc did not improve from 1.00000\n",
      "\u001b[1m110/110\u001b[0m \u001b[32m━━━━━━━━━━━━━━━━━━━━\u001b[0m\u001b[37m\u001b[0m \u001b[1m1s\u001b[0m 8ms/step - acc: 1.0000 - loss: 6.3089e-05 - val_acc: 1.0000 - val_loss: 6.6433e-05 - learning_rate: 1.2500e-04\n",
      "Epoch 181/200\n",
      "\u001b[1m106/110\u001b[0m \u001b[32m━━━━━━━━━━━━━━━━━━━\u001b[0m\u001b[37m━\u001b[0m \u001b[1m0s\u001b[0m 7ms/step - acc: 1.0000 - loss: 5.4830e-05\n",
      "Epoch 181: val_acc did not improve from 1.00000\n",
      "\u001b[1m110/110\u001b[0m \u001b[32m━━━━━━━━━━━━━━━━━━━━\u001b[0m\u001b[37m\u001b[0m \u001b[1m1s\u001b[0m 7ms/step - acc: 1.0000 - loss: 5.5049e-05 - val_acc: 1.0000 - val_loss: 6.3696e-05 - learning_rate: 1.2500e-04\n",
      "Epoch 182/200\n",
      "\u001b[1m106/110\u001b[0m \u001b[32m━━━━━━━━━━━━━━━━━━━\u001b[0m\u001b[37m━\u001b[0m \u001b[1m0s\u001b[0m 6ms/step - acc: 1.0000 - loss: 5.1926e-05\n",
      "Epoch 182: val_acc did not improve from 1.00000\n",
      "\u001b[1m110/110\u001b[0m \u001b[32m━━━━━━━━━━━━━━━━━━━━\u001b[0m\u001b[37m\u001b[0m \u001b[1m1s\u001b[0m 7ms/step - acc: 1.0000 - loss: 5.2153e-05 - val_acc: 1.0000 - val_loss: 6.1693e-05 - learning_rate: 1.2500e-04\n",
      "Epoch 183/200\n",
      "\u001b[1m106/110\u001b[0m \u001b[32m━━━━━━━━━━━━━━━━━━━\u001b[0m\u001b[37m━\u001b[0m \u001b[1m0s\u001b[0m 6ms/step - acc: 1.0000 - loss: 5.8134e-05\n",
      "Epoch 183: val_acc did not improve from 1.00000\n",
      "\u001b[1m110/110\u001b[0m \u001b[32m━━━━━━━━━━━━━━━━━━━━\u001b[0m\u001b[37m\u001b[0m \u001b[1m1s\u001b[0m 7ms/step - acc: 1.0000 - loss: 5.8025e-05 - val_acc: 1.0000 - val_loss: 6.0437e-05 - learning_rate: 1.2500e-04\n",
      "Epoch 184/200\n",
      "\u001b[1m109/110\u001b[0m \u001b[32m━━━━━━━━━━━━━━━━━━━\u001b[0m\u001b[37m━\u001b[0m \u001b[1m0s\u001b[0m 6ms/step - acc: 1.0000 - loss: 4.9999e-05\n",
      "Epoch 184: val_acc did not improve from 1.00000\n",
      "\u001b[1m110/110\u001b[0m \u001b[32m━━━━━━━━━━━━━━━━━━━━\u001b[0m\u001b[37m\u001b[0m \u001b[1m1s\u001b[0m 7ms/step - acc: 1.0000 - loss: 5.0102e-05 - val_acc: 1.0000 - val_loss: 6.5370e-05 - learning_rate: 1.2500e-04\n",
      "Epoch 185/200\n",
      "\u001b[1m104/110\u001b[0m \u001b[32m━━━━━━━━━━━━━━━━━━\u001b[0m\u001b[37m━━\u001b[0m \u001b[1m0s\u001b[0m 6ms/step - acc: 1.0000 - loss: 4.4065e-05\n",
      "Epoch 185: val_acc did not improve from 1.00000\n",
      "\u001b[1m110/110\u001b[0m \u001b[32m━━━━━━━━━━━━━━━━━━━━\u001b[0m\u001b[37m\u001b[0m \u001b[1m1s\u001b[0m 7ms/step - acc: 1.0000 - loss: 4.4635e-05 - val_acc: 1.0000 - val_loss: 6.0624e-05 - learning_rate: 1.2500e-04\n",
      "Epoch 186/200\n",
      "\u001b[1m106/110\u001b[0m \u001b[32m━━━━━━━━━━━━━━━━━━━\u001b[0m\u001b[37m━\u001b[0m \u001b[1m0s\u001b[0m 6ms/step - acc: 1.0000 - loss: 4.8199e-05\n",
      "Epoch 186: val_acc did not improve from 1.00000\n",
      "\u001b[1m110/110\u001b[0m \u001b[32m━━━━━━━━━━━━━━━━━━━━\u001b[0m\u001b[37m\u001b[0m \u001b[1m1s\u001b[0m 7ms/step - acc: 1.0000 - loss: 4.8260e-05 - val_acc: 1.0000 - val_loss: 5.7376e-05 - learning_rate: 1.2500e-04\n",
      "Epoch 187/200\n",
      "\u001b[1m106/110\u001b[0m \u001b[32m━━━━━━━━━━━━━━━━━━━\u001b[0m\u001b[37m━\u001b[0m \u001b[1m0s\u001b[0m 7ms/step - acc: 1.0000 - loss: 4.1461e-05\n",
      "Epoch 187: val_acc did not improve from 1.00000\n",
      "\u001b[1m110/110\u001b[0m \u001b[32m━━━━━━━━━━━━━━━━━━━━\u001b[0m\u001b[37m\u001b[0m \u001b[1m1s\u001b[0m 8ms/step - acc: 1.0000 - loss: 4.1739e-05 - val_acc: 1.0000 - val_loss: 5.4760e-05 - learning_rate: 1.2500e-04\n",
      "Epoch 188/200\n",
      "\u001b[1m109/110\u001b[0m \u001b[32m━━━━━━━━━━━━━━━━━━━\u001b[0m\u001b[37m━\u001b[0m \u001b[1m0s\u001b[0m 7ms/step - acc: 1.0000 - loss: 4.0582e-05\n",
      "Epoch 188: val_acc did not improve from 1.00000\n",
      "\u001b[1m110/110\u001b[0m \u001b[32m━━━━━━━━━━━━━━━━━━━━\u001b[0m\u001b[37m\u001b[0m \u001b[1m1s\u001b[0m 7ms/step - acc: 1.0000 - loss: 4.0654e-05 - val_acc: 1.0000 - val_loss: 5.1092e-05 - learning_rate: 1.2500e-04\n",
      "Epoch 189/200\n",
      "\u001b[1m109/110\u001b[0m \u001b[32m━━━━━━━━━━━━━━━━━━━\u001b[0m\u001b[37m━\u001b[0m \u001b[1m0s\u001b[0m 7ms/step - acc: 1.0000 - loss: 5.2079e-05\n",
      "Epoch 189: val_acc did not improve from 1.00000\n",
      "\u001b[1m110/110\u001b[0m \u001b[32m━━━━━━━━━━━━━━━━━━━━\u001b[0m\u001b[37m\u001b[0m \u001b[1m1s\u001b[0m 8ms/step - acc: 1.0000 - loss: 5.1907e-05 - val_acc: 1.0000 - val_loss: 4.8202e-05 - learning_rate: 1.2500e-04\n",
      "Epoch 190/200\n",
      "\u001b[1m108/110\u001b[0m \u001b[32m━━━━━━━━━━━━━━━━━━━\u001b[0m\u001b[37m━\u001b[0m \u001b[1m0s\u001b[0m 7ms/step - acc: 1.0000 - loss: 4.4486e-05\n",
      "Epoch 190: val_acc did not improve from 1.00000\n",
      "\u001b[1m110/110\u001b[0m \u001b[32m━━━━━━━━━━━━━━━━━━━━\u001b[0m\u001b[37m\u001b[0m \u001b[1m1s\u001b[0m 8ms/step - acc: 1.0000 - loss: 4.4381e-05 - val_acc: 1.0000 - val_loss: 4.5379e-05 - learning_rate: 1.2500e-04\n",
      "Epoch 191/200\n",
      "\u001b[1m103/110\u001b[0m \u001b[32m━━━━━━━━━━━━━━━━━━\u001b[0m\u001b[37m━━\u001b[0m \u001b[1m0s\u001b[0m 6ms/step - acc: 1.0000 - loss: 3.3193e-05\n",
      "Epoch 191: val_acc did not improve from 1.00000\n",
      "\u001b[1m110/110\u001b[0m \u001b[32m━━━━━━━━━━━━━━━━━━━━\u001b[0m\u001b[37m\u001b[0m \u001b[1m1s\u001b[0m 7ms/step - acc: 1.0000 - loss: 3.3533e-05 - val_acc: 1.0000 - val_loss: 4.2207e-05 - learning_rate: 1.2500e-04\n",
      "Epoch 192/200\n",
      "\u001b[1m105/110\u001b[0m \u001b[32m━━━━━━━━━━━━━━━━━━━\u001b[0m\u001b[37m━\u001b[0m \u001b[1m0s\u001b[0m 6ms/step - acc: 1.0000 - loss: 4.6974e-05\n",
      "Epoch 192: val_acc did not improve from 1.00000\n",
      "\u001b[1m110/110\u001b[0m \u001b[32m━━━━━━━━━━━━━━━━━━━━\u001b[0m\u001b[37m\u001b[0m \u001b[1m1s\u001b[0m 7ms/step - acc: 1.0000 - loss: 4.6448e-05 - val_acc: 1.0000 - val_loss: 5.5175e-05 - learning_rate: 1.2500e-04\n",
      "Epoch 193/200\n",
      "\u001b[1m103/110\u001b[0m \u001b[32m━━━━━━━━━━━━━━━━━━\u001b[0m\u001b[37m━━\u001b[0m \u001b[1m0s\u001b[0m 6ms/step - acc: 1.0000 - loss: 3.3709e-05\n",
      "Epoch 193: val_acc did not improve from 1.00000\n",
      "\u001b[1m110/110\u001b[0m \u001b[32m━━━━━━━━━━━━━━━━━━━━\u001b[0m\u001b[37m\u001b[0m \u001b[1m1s\u001b[0m 7ms/step - acc: 1.0000 - loss: 3.3909e-05 - val_acc: 1.0000 - val_loss: 4.5047e-05 - learning_rate: 1.2500e-04\n",
      "Epoch 194/200\n",
      "\u001b[1m106/110\u001b[0m \u001b[32m━━━━━━━━━━━━━━━━━━━\u001b[0m\u001b[37m━\u001b[0m \u001b[1m0s\u001b[0m 6ms/step - acc: 1.0000 - loss: 3.2227e-05\n",
      "Epoch 194: val_acc did not improve from 1.00000\n",
      "\u001b[1m110/110\u001b[0m \u001b[32m━━━━━━━━━━━━━━━━━━━━\u001b[0m\u001b[37m\u001b[0m \u001b[1m1s\u001b[0m 7ms/step - acc: 1.0000 - loss: 3.2326e-05 - val_acc: 1.0000 - val_loss: 4.4047e-05 - learning_rate: 1.2500e-04\n",
      "Epoch 195/200\n",
      "\u001b[1m104/110\u001b[0m \u001b[32m━━━━━━━━━━━━━━━━━━\u001b[0m\u001b[37m━━\u001b[0m \u001b[1m0s\u001b[0m 6ms/step - acc: 1.0000 - loss: 2.8691e-05\n",
      "Epoch 195: val_acc did not improve from 1.00000\n",
      "\u001b[1m110/110\u001b[0m \u001b[32m━━━━━━━━━━━━━━━━━━━━\u001b[0m\u001b[37m\u001b[0m \u001b[1m1s\u001b[0m 7ms/step - acc: 1.0000 - loss: 2.8898e-05 - val_acc: 1.0000 - val_loss: 4.1948e-05 - learning_rate: 1.2500e-04\n",
      "Epoch 196/200\n",
      "\u001b[1m108/110\u001b[0m \u001b[32m━━━━━━━━━━━━━━━━━━━\u001b[0m\u001b[37m━\u001b[0m \u001b[1m0s\u001b[0m 6ms/step - acc: 1.0000 - loss: 2.5905e-05\n",
      "Epoch 196: val_acc did not improve from 1.00000\n",
      "\u001b[1m110/110\u001b[0m \u001b[32m━━━━━━━━━━━━━━━━━━━━\u001b[0m\u001b[37m\u001b[0m \u001b[1m1s\u001b[0m 7ms/step - acc: 1.0000 - loss: 2.6036e-05 - val_acc: 1.0000 - val_loss: 3.6774e-05 - learning_rate: 1.2500e-04\n",
      "Epoch 197/200\n",
      "\u001b[1m110/110\u001b[0m \u001b[32m━━━━━━━━━━━━━━━━━━━━\u001b[0m\u001b[37m\u001b[0m \u001b[1m0s\u001b[0m 6ms/step - acc: 1.0000 - loss: 3.1618e-05\n",
      "Epoch 197: val_acc did not improve from 1.00000\n",
      "\u001b[1m110/110\u001b[0m \u001b[32m━━━━━━━━━━━━━━━━━━━━\u001b[0m\u001b[37m\u001b[0m \u001b[1m1s\u001b[0m 7ms/step - acc: 1.0000 - loss: 3.1592e-05 - val_acc: 1.0000 - val_loss: 3.4935e-05 - learning_rate: 1.2500e-04\n",
      "Epoch 198/200\n",
      "\u001b[1m109/110\u001b[0m \u001b[32m━━━━━━━━━━━━━━━━━━━\u001b[0m\u001b[37m━\u001b[0m \u001b[1m0s\u001b[0m 6ms/step - acc: 1.0000 - loss: 2.3258e-05\n",
      "Epoch 198: val_acc did not improve from 1.00000\n",
      "\u001b[1m110/110\u001b[0m \u001b[32m━━━━━━━━━━━━━━━━━━━━\u001b[0m\u001b[37m\u001b[0m \u001b[1m1s\u001b[0m 7ms/step - acc: 1.0000 - loss: 2.3329e-05 - val_acc: 1.0000 - val_loss: 3.3241e-05 - learning_rate: 1.2500e-04\n",
      "Epoch 199/200\n",
      "\u001b[1m108/110\u001b[0m \u001b[32m━━━━━━━━━━━━━━━━━━━\u001b[0m\u001b[37m━\u001b[0m \u001b[1m0s\u001b[0m 6ms/step - acc: 1.0000 - loss: 2.1002e-05\n",
      "Epoch 199: val_acc did not improve from 1.00000\n",
      "\u001b[1m110/110\u001b[0m \u001b[32m━━━━━━━━━━━━━━━━━━━━\u001b[0m\u001b[37m\u001b[0m \u001b[1m1s\u001b[0m 7ms/step - acc: 1.0000 - loss: 2.1136e-05 - val_acc: 1.0000 - val_loss: 3.2197e-05 - learning_rate: 1.2500e-04\n",
      "Epoch 200/200\n",
      "\u001b[1m102/110\u001b[0m \u001b[32m━━━━━━━━━━━━━━━━━━\u001b[0m\u001b[37m━━\u001b[0m \u001b[1m0s\u001b[0m 6ms/step - acc: 1.0000 - loss: 2.4181e-05\n",
      "Epoch 200: val_acc did not improve from 1.00000\n",
      "\u001b[1m110/110\u001b[0m \u001b[32m━━━━━━━━━━━━━━━━━━━━\u001b[0m\u001b[37m\u001b[0m \u001b[1m1s\u001b[0m 7ms/step - acc: 1.0000 - loss: 2.4164e-05 - val_acc: 1.0000 - val_loss: 3.0802e-05 - learning_rate: 1.2500e-04\n"
     ]
    }
   ],
   "source": [
    "from tensorflow.keras.callbacks import ModelCheckpoint, ReduceLROnPlateau\n",
    "\n",
    "history = model.fit(\n",
    "    x_train,\n",
    "    y_train,\n",
    "    validation_data=(x_val, y_val),\n",
    "    epochs=200,\n",
    "    callbacks=[\n",
    "        ModelCheckpoint('models/model2.h5', monitor='val_acc', verbose=1, save_best_only=True, mode='auto'),\n",
    "        ReduceLROnPlateau(monitor='val_acc', factor=0.5, patience=50, verbose=1, mode='auto')\n",
    "    ]\n",
    ")"
   ]
  },
  {
   "cell_type": "code",
   "execution_count": 8,
   "metadata": {},
   "outputs": [
    {
     "data": {
      "image/png": "[encoded data removed]",
      "text/plain": [
       "<Figure size 1600x1000 with 2 Axes>"
      ]
     },
     "metadata": {},
     "output_type": "display_data"
    }
   ],
   "source": [
    "import matplotlib.pyplot as plt\n",
    "\n",
    "fig, loss_ax = plt.subplots(figsize=(16, 10))\n",
    "acc_ax = loss_ax.twinx()\n",
    "\n",
    "loss_ax.plot(history.history['loss'], 'y', label='train loss')\n",
    "loss_ax.plot(history.history['val_loss'], 'r', label='val loss')\n",
    "loss_ax.set_xlabel('epoch')\n",
    "loss_ax.set_ylabel('loss')\n",
    "loss_ax.legend(loc='upper left')\n",
    "\n",
    "acc_ax.plot(history.history['acc'], 'b', label='train acc')\n",
    "acc_ax.plot(history.history['val_acc'], 'g', label='val acc')\n",
    "acc_ax.set_ylabel('accuracy')\n",
    "acc_ax.legend(loc='upper left')\n",
    "\n",
    "plt.show()"
   ]
  },
  {
   "cell_type": "code",
   "execution_count": 9,
   "metadata": {},
   "outputs": [
    {
     "name": "stderr",
     "output_type": "stream",
     "text": [
      "WARNING:absl:Compiled the loaded model, but the compiled metrics have yet to be built. `model.compile_metrics` will be empty until you train or evaluate the model.\n"
     ]
    },
    {
     "name": "stdout",
     "output_type": "stream",
     "text": [
      "\u001b[1m13/13\u001b[0m \u001b[32m━━━━━━━━━━━━━━━━━━━━\u001b[0m\u001b[37m\u001b[0m \u001b[1m0s\u001b[0m 14ms/step\n"
     ]
    },
    {
     "data": {
      "text/plain": [
       "array([[[296,   0],\n",
       "        [  0,  94]],\n",
       "\n",
       "       [[362,   0],\n",
       "        [  0,  28]],\n",
       "\n",
       "       [[287,   0],\n",
       "        [  0, 103]],\n",
       "\n",
       "       [[306,   0],\n",
       "        [  0,  84]],\n",
       "\n",
       "       [[309,   0],\n",
       "        [  0,  81]]], dtype=int64)"
      ]
     },
     "execution_count": 9,
     "metadata": {},
     "output_type": "execute_result"
    }
   ],
   "source": [
    "from sklearn.metrics import multilabel_confusion_matrix\n",
    "from tensorflow.keras.models import load_model\n",
    "\n",
    "model = load_model('models/model2.h5')\n",
    "\n",
    "y_pred = model.predict(x_val)\n",
    "\n",
    "multilabel_confusion_matrix(np.argmax(y_val, axis=1), np.argmax(y_pred, axis=1))"
   ]
  },
  {
   "cell_type": "code",
   "execution_count": 10,
   "metadata": {},
   "outputs": [
    {
     "name": "stdout",
     "output_type": "stream",
     "text": [
      "정답값 분포: (array([0, 1, 2, 3, 4], dtype=int64), array([ 94,  28, 103,  84,  81], dtype=int64))\n",
      "예측값 분포: (array([0, 1, 2, 3, 4], dtype=int64), array([ 94,  28, 103,  84,  81], dtype=int64))\n"
     ]
    }
   ],
   "source": [
    "import numpy as np\n",
    "print(\"정답값 분포:\", np.unique(np.argmax(y_val, axis=1), return_counts=True))\n",
    "print(\"예측값 분포:\", np.unique(np.argmax(y_pred, axis=1), return_counts=True))\n"
   ]
  },
  {
   "cell_type": "code",
   "execution_count": 11,
   "metadata": {},
   "outputs": [
    {
     "name": "stdout",
     "output_type": "stream",
     "text": [
      "Train: Counter({4: 792, 0: 779, 3: 774, 2: 762, 1: 396})\n",
      "Val  : Counter({2: 103, 0: 94, 3: 84, 4: 81, 1: 28})\n"
     ]
    }
   ],
   "source": [
    "from collections import Counter\n",
    "print(\"Train:\", Counter(np.argmax(y_train, axis=1)))\n",
    "print(\"Val  :\", Counter(np.argmax(y_val, axis=1)))"
   ]
  },
  {
   "cell_type": "code",
   "execution_count": 12,
   "metadata": {},
   "outputs": [
    {
     "name": "stdout",
     "output_type": "stream",
     "text": [
      "{0.0: 14012, 1.0: 3503}\n"
     ]
    }
   ],
   "source": [
    "unique, counts = np.unique(y_train, return_counts=True)\n",
    "print(dict(zip(unique, counts)))"
   ]
  }
 ],
 "metadata": {
  "kernelspec": {
   "display_name": "base",
   "language": "python",
   "name": "python3"
  },
  "language_info": {
   "codemirror_mode": {
    "name": "ipython",
    "version": 3
   },
   "file_extension": ".py",
   "mimetype": "text/x-python",
   "name": "python",
   "nbconvert_exporter": "python",
   "pygments_lexer": "ipython3",
   "version": "3.12.7"
  }
 },
 "nbformat": 4,
 "nbformat_minor": 4
}
